{
  "nbformat": 4,
  "nbformat_minor": 0,
  "metadata": {
    "colab": {
      "name": "2022.0316.ipynb",
      "provenance": [],
      "collapsed_sections": [],
      "authorship_tag": "ABX9TyP7DKP77fzPEz1b8tr9PxYl",
      "include_colab_link": true
    },
    "kernelspec": {
      "name": "python3",
      "display_name": "Python 3"
    },
    "language_info": {
      "name": "python"
    }
  },
  "cells": [
    {
      "cell_type": "markdown",
      "metadata": {
        "id": "view-in-github",
        "colab_type": "text"
      },
      "source": [
        "<a href=\"https://colab.research.google.com/github/hyesuun/class2022Spring/blob/main/2022_0316.ipynb\" target=\"_parent\"><img src=\"https://colab.research.google.com/assets/colab-badge.svg\" alt=\"Open In Colab\"/></a>"
      ]
    },
    {
      "cell_type": "code",
      "source": [
        "a=1"
      ],
      "metadata": {
        "id": "WC8VynuZjCHq"
      },
      "execution_count": 12,
      "outputs": []
    },
    {
      "cell_type": "code",
      "source": [
        "print(a)"
      ],
      "metadata": {
        "colab": {
          "base_uri": "https://localhost:8080/"
        },
        "id": "rpQSnIqDjKHR",
        "outputId": "8de01406-f541-422b-d3ac-d3f265bf5347"
      },
      "execution_count": 13,
      "outputs": [
        {
          "output_type": "stream",
          "name": "stdout",
          "text": [
            "1\n"
          ]
        }
      ]
    },
    {
      "cell_type": "markdown",
      "source": [
        "print(변수)하면 변수 안에 있는 내용이 나온다"
      ],
      "metadata": {
        "id": "okXITSYZkMRL"
      }
    },
    {
      "cell_type": "code",
      "source": [
        "print(type(a))"
      ],
      "metadata": {
        "colab": {
          "base_uri": "https://localhost:8080/"
        },
        "id": "Ldiq32ofjbpV",
        "outputId": "2ebffa56-27c7-4fa6-8cf4-59f7eb214b64"
      },
      "execution_count": 14,
      "outputs": [
        {
          "output_type": "stream",
          "name": "stdout",
          "text": [
            "<class 'int'>\n"
          ]
        }
      ]
    },
    {
      "cell_type": "code",
      "source": [
        "a=1.1; print(type(a))"
      ],
      "metadata": {
        "colab": {
          "base_uri": "https://localhost:8080/"
        },
        "id": "xMGjyAxnjwGX",
        "outputId": "d65b0b8d-71ea-4682-81ee-da6a2db8e51f"
      },
      "execution_count": 15,
      "outputs": [
        {
          "output_type": "stream",
          "name": "stdout",
          "text": [
            "<class 'float'>\n"
          ]
        }
      ]
    },
    {
      "cell_type": "markdown",
      "source": [
        "print(type(변수))하면 변수의 type=유형이 나온다.\n",
        "정수는 int, 실수는 float"
      ],
      "metadata": {
        "id": "b1eXUwVzjivG"
      }
    },
    {
      "cell_type": "code",
      "source": [
        "a='123'; print(type(a))"
      ],
      "metadata": {
        "colab": {
          "base_uri": "https://localhost:8080/"
        },
        "id": "A3asBnRCpHYK",
        "outputId": "2a92be64-4234-44d9-dacc-430ad8653629"
      },
      "execution_count": 16,
      "outputs": [
        {
          "output_type": "stream",
          "name": "stdout",
          "text": [
            "<class 'str'>\n"
          ]
        }
      ]
    },
    {
      "cell_type": "code",
      "source": [
        "a='hello'; print(a); print(type(a))"
      ],
      "metadata": {
        "colab": {
          "base_uri": "https://localhost:8080/"
        },
        "id": "82P1QprYpeuI",
        "outputId": "835d0930-a1c2-4947-92e0-7e1c52bffabb"
      },
      "execution_count": 17,
      "outputs": [
        {
          "output_type": "stream",
          "name": "stdout",
          "text": [
            "hello\n",
            "<class 'str'>\n"
          ]
        }
      ]
    },
    {
      "cell_type": "markdown",
      "source": [
        "string을 넣는 방법은 ''또는 \"\"사용하기"
      ],
      "metadata": {
        "id": "tjVdE_CipWiP"
      }
    },
    {
      "cell_type": "code",
      "source": [
        "a=[1,2,3,4]; print(type(a))"
      ],
      "metadata": {
        "colab": {
          "base_uri": "https://localhost:8080/"
        },
        "id": "cWjis6q7p-lD",
        "outputId": "efce7ac9-18c3-47bd-a17e-0d9c18648dd4"
      },
      "execution_count": 21,
      "outputs": [
        {
          "output_type": "stream",
          "name": "stdout",
          "text": [
            "<class 'list'>\n"
          ]
        }
      ]
    },
    {
      "cell_type": "code",
      "source": [
        "b=[1,'a',[3,'4']]; print(type(a))"
      ],
      "metadata": {
        "colab": {
          "base_uri": "https://localhost:8080/"
        },
        "id": "EITPUf4CqcHJ",
        "outputId": "981a6b76-250c-4311-aac3-f3ea5e120d99"
      },
      "execution_count": 20,
      "outputs": [
        {
          "output_type": "stream",
          "name": "stdout",
          "text": [
            "<class 'list'>\n"
          ]
        }
      ]
    },
    {
      "cell_type": "markdown",
      "source": [
        "변수에는 숫자(number), 문자(string), list가 있다. \n",
        "list는 [  ]를 사용해서 나타낸다. 리스트 안에는 number, string, list가 다 들어갈 수 있다. "
      ],
      "metadata": {
        "id": "hWGypwHIquI7"
      }
    },
    {
      "cell_type": "code",
      "source": [
        "print(a[0])\n",
        "a[2]"
      ],
      "metadata": {
        "colab": {
          "base_uri": "https://localhost:8080/"
        },
        "id": "9ZCJL0_jrXtw",
        "outputId": "81c6f6eb-621b-43ee-936c-6bc28a71863d"
      },
      "execution_count": 24,
      "outputs": [
        {
          "output_type": "stream",
          "name": "stdout",
          "text": [
            "1\n"
          ]
        },
        {
          "output_type": "execute_result",
          "data": {
            "text/plain": [
              "3"
            ]
          },
          "metadata": {},
          "execution_count": 24
        }
      ]
    },
    {
      "cell_type": "markdown",
      "source": [
        "4아이템 중에 몇 개만 꺼내 쓰는 거를 indexing이라고 한다. \n",
        "꺼내쓸 때는 print(변수[순서])로 치면 된다. 마지막 줄에 오는 index의 경우에는 print를 치지 않고 변수[순서]라고만 쳐도 된다. 순서는 0부터 시작한다. a[:]는 전부다 라는 뜻"
      ],
      "metadata": {
        "id": "zRyTRFJrrZxn"
      }
    },
    {
      "cell_type": "code",
      "source": [
        "print(a[1:2]); a[0:3]"
      ],
      "metadata": {
        "colab": {
          "base_uri": "https://localhost:8080/"
        },
        "id": "QEK0Q6xUspLn",
        "outputId": "2ae90b1a-e6ed-4f37-fb19-311dcff4e3e2"
      },
      "execution_count": 26,
      "outputs": [
        {
          "output_type": "stream",
          "name": "stdout",
          "text": [
            "[2]\n"
          ]
        },
        {
          "output_type": "execute_result",
          "data": {
            "text/plain": [
              "[1, 2, 3]"
            ]
          },
          "metadata": {},
          "execution_count": 26
        }
      ]
    },
    {
      "cell_type": "markdown",
      "source": [
        "a[1:2]라고 하면 1번째부터 2번째 전까지 꺼내라는 뜻. 즉, 2만 나온다.\n",
        "a[0:3]라고 하면 0번째부터 3번째 전까지라는 뜻. 즉, 1,2만 나온다. "
      ],
      "metadata": {
        "id": "YJJQrU64sziG"
      }
    },
    {
      "cell_type": "code",
      "source": [
        "a=[1,2,3,4,5,6,7,8,9,10]"
      ],
      "metadata": {
        "id": "QmusRi7ytlyr"
      },
      "execution_count": 27,
      "outputs": []
    },
    {
      "cell_type": "code",
      "source": [
        "print(a[2:]);print(a[1:-1])"
      ],
      "metadata": {
        "colab": {
          "base_uri": "https://localhost:8080/"
        },
        "id": "ReILmzRutxr1",
        "outputId": "67941890-b752-42c5-a7b8-682ed15c1cff"
      },
      "execution_count": 28,
      "outputs": [
        {
          "output_type": "stream",
          "name": "stdout",
          "text": [
            "[3, 4, 5, 6, 7, 8, 9, 10]\n",
            "[2, 3, 4, 5, 6, 7, 8, 9]\n"
          ]
        }
      ]
    },
    {
      "cell_type": "markdown",
      "source": [
        "a[1:-1]은 1번째부터 끝에서 -1까지 꺼내라는 뜻"
      ],
      "metadata": {
        "id": "ZyVPE_WIuK4O"
      }
    },
    {
      "cell_type": "code",
      "source": [
        "b=[1,'a',[3,'4']]"
      ],
      "metadata": {
        "id": "EhEHd_iHunOb"
      },
      "execution_count": 30,
      "outputs": []
    },
    {
      "cell_type": "code",
      "source": [
        "print(b[2][0])\n",
        "b[2][1]"
      ],
      "metadata": {
        "colab": {
          "base_uri": "https://localhost:8080/",
          "height": 55
        },
        "id": "Bucs44e8u4CA",
        "outputId": "5e902659-3c10-4e00-be46-263a77c97afc"
      },
      "execution_count": 31,
      "outputs": [
        {
          "output_type": "stream",
          "name": "stdout",
          "text": [
            "3\n"
          ]
        },
        {
          "output_type": "execute_result",
          "data": {
            "text/plain": [
              "'4'"
            ],
            "application/vnd.google.colaboratory.intrinsic+json": {
              "type": "string"
            }
          },
          "metadata": {},
          "execution_count": 31
        }
      ]
    },
    {
      "cell_type": "markdown",
      "source": [
        "b안에 들어있는 리스트에서 특정 수만 꺼내고 싶으면 b[2][1]이런 방식으로 치기"
      ],
      "metadata": {
        "id": "lxczzumkvB0j"
      }
    },
    {
      "cell_type": "code",
      "source": [
        "a='abcdef123'"
      ],
      "metadata": {
        "id": "7uiBRlyAvK5q"
      },
      "execution_count": 32,
      "outputs": []
    },
    {
      "cell_type": "code",
      "source": [
        "print(a[:3])\n",
        "a[3:-1]"
      ],
      "metadata": {
        "colab": {
          "base_uri": "https://localhost:8080/",
          "height": 55
        },
        "id": "J5DpbFiXv6tO",
        "outputId": "9514c38a-ee39-4be1-9f2d-34ca47c3e4ca"
      },
      "execution_count": 33,
      "outputs": [
        {
          "output_type": "stream",
          "name": "stdout",
          "text": [
            "abc\n"
          ]
        },
        {
          "output_type": "execute_result",
          "data": {
            "text/plain": [
              "'def12'"
            ],
            "application/vnd.google.colaboratory.intrinsic+json": {
              "type": "string"
            }
          },
          "metadata": {},
          "execution_count": 33
        }
      ]
    },
    {
      "cell_type": "markdown",
      "source": [
        "string에서도 list와 마찬가지로 특정 변수만 꺼내올 수 있다. a[  ] 이런 방식으로"
      ],
      "metadata": {
        "id": "EyZkN0kRvu2I"
      }
    },
    {
      "cell_type": "code",
      "source": [
        "a=[1,2,3]"
      ],
      "metadata": {
        "id": "8N0nGZGwwZrd"
      },
      "execution_count": 34,
      "outputs": []
    },
    {
      "cell_type": "code",
      "source": [
        "a[1]=0"
      ],
      "metadata": {
        "id": "ozMOvHEzxDzG"
      },
      "execution_count": 35,
      "outputs": []
    },
    {
      "cell_type": "code",
      "source": [
        "print(a)"
      ],
      "metadata": {
        "colab": {
          "base_uri": "https://localhost:8080/"
        },
        "id": "dIKwThePxJS0",
        "outputId": "043749ad-3d00-4938-a470-9eb5340e901e"
      },
      "execution_count": 36,
      "outputs": [
        {
          "output_type": "stream",
          "name": "stdout",
          "text": [
            "[1, 0, 3]\n"
          ]
        }
      ]
    },
    {
      "cell_type": "markdown",
      "source": [
        "변수에는 숫자, string, list(tuple), dict가 있다. \n",
        "list는 a[1,2,3]\n",
        "tuple은 a(1,2,3) tuple은 list와 다르게 안에 들어있는 항목을 바꾸지 못한다. "
      ],
      "metadata": {
        "id": "939y407fwjy9"
      }
    }
  ]
}