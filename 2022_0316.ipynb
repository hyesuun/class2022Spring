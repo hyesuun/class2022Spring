{
  "nbformat": 4,
  "nbformat_minor": 0,
  "metadata": {
    "colab": {
      "name": "2022.0316.ipynb",
      "provenance": [],
      "collapsed_sections": [],
      "authorship_tag": "ABX9TyO8AnK2yJ98nUjyEYlqgCLm",
      "include_colab_link": true
    },
    "kernelspec": {
      "name": "python3",
      "display_name": "Python 3"
    },
    "language_info": {
      "name": "python"
    }
  },
  "cells": [
    {
      "cell_type": "markdown",
      "metadata": {
        "id": "view-in-github",
        "colab_type": "text"
      },
      "source": [
        "<a href=\"https://colab.research.google.com/github/hyesuun/class2022Spring/blob/main/2022_0316.ipynb\" target=\"_parent\"><img src=\"https://colab.research.google.com/assets/colab-badge.svg\" alt=\"Open In Colab\"/></a>"
      ]
    },
    {
      "cell_type": "code",
      "source": [
        "a=1"
      ],
      "metadata": {
        "id": "WC8VynuZjCHq"
      },
      "execution_count": null,
      "outputs": []
    },
    {
      "cell_type": "code",
      "source": [
        "print(a)"
      ],
      "metadata": {
        "colab": {
          "base_uri": "https://localhost:8080/"
        },
        "id": "rpQSnIqDjKHR",
        "outputId": "8de01406-f541-422b-d3ac-d3f265bf5347"
      },
      "execution_count": null,
      "outputs": [
        {
          "output_type": "stream",
          "name": "stdout",
          "text": [
            "1\n"
          ]
        }
      ]
    },
    {
      "cell_type": "markdown",
      "source": [
        "print(변수)하면 변수 안에 있는 내용이 나온다"
      ],
      "metadata": {
        "id": "okXITSYZkMRL"
      }
    },
    {
      "cell_type": "code",
      "source": [
        "print(type(a))"
      ],
      "metadata": {
        "colab": {
          "base_uri": "https://localhost:8080/"
        },
        "id": "Ldiq32ofjbpV",
        "outputId": "2ebffa56-27c7-4fa6-8cf4-59f7eb214b64"
      },
      "execution_count": null,
      "outputs": [
        {
          "output_type": "stream",
          "name": "stdout",
          "text": [
            "<class 'int'>\n"
          ]
        }
      ]
    },
    {
      "cell_type": "code",
      "source": [
        "a=1.1; print(type(a))"
      ],
      "metadata": {
        "colab": {
          "base_uri": "https://localhost:8080/"
        },
        "id": "xMGjyAxnjwGX",
        "outputId": "d65b0b8d-71ea-4682-81ee-da6a2db8e51f"
      },
      "execution_count": null,
      "outputs": [
        {
          "output_type": "stream",
          "name": "stdout",
          "text": [
            "<class 'float'>\n"
          ]
        }
      ]
    },
    {
      "cell_type": "markdown",
      "source": [
        "print(type(변수))하면 변수의 type=유형이 나온다.\n",
        "정수는 int, 실수는 float"
      ],
      "metadata": {
        "id": "b1eXUwVzjivG"
      }
    },
    {
      "cell_type": "code",
      "source": [
        "a='123'; print(type(a))"
      ],
      "metadata": {
        "colab": {
          "base_uri": "https://localhost:8080/"
        },
        "id": "A3asBnRCpHYK",
        "outputId": "2a92be64-4234-44d9-dacc-430ad8653629"
      },
      "execution_count": null,
      "outputs": [
        {
          "output_type": "stream",
          "name": "stdout",
          "text": [
            "<class 'str'>\n"
          ]
        }
      ]
    },
    {
      "cell_type": "code",
      "source": [
        "a='hello'; print(a); print(type(a))"
      ],
      "metadata": {
        "colab": {
          "base_uri": "https://localhost:8080/"
        },
        "id": "82P1QprYpeuI",
        "outputId": "835d0930-a1c2-4947-92e0-7e1c52bffabb"
      },
      "execution_count": null,
      "outputs": [
        {
          "output_type": "stream",
          "name": "stdout",
          "text": [
            "hello\n",
            "<class 'str'>\n"
          ]
        }
      ]
    },
    {
      "cell_type": "markdown",
      "source": [
        "string을 넣는 방법은 ''또는 \"\"사용하기"
      ],
      "metadata": {
        "id": "tjVdE_CipWiP"
      }
    },
    {
      "cell_type": "code",
      "source": [
        "a=[1,2,3,4]; print(type(a))"
      ],
      "metadata": {
        "colab": {
          "base_uri": "https://localhost:8080/"
        },
        "id": "cWjis6q7p-lD",
        "outputId": "efce7ac9-18c3-47bd-a17e-0d9c18648dd4"
      },
      "execution_count": null,
      "outputs": [
        {
          "output_type": "stream",
          "name": "stdout",
          "text": [
            "<class 'list'>\n"
          ]
        }
      ]
    },
    {
      "cell_type": "code",
      "source": [
        "b=[1,'a',[3,'4']]; print(type(a))"
      ],
      "metadata": {
        "colab": {
          "base_uri": "https://localhost:8080/"
        },
        "id": "EITPUf4CqcHJ",
        "outputId": "981a6b76-250c-4311-aac3-f3ea5e120d99"
      },
      "execution_count": null,
      "outputs": [
        {
          "output_type": "stream",
          "name": "stdout",
          "text": [
            "<class 'list'>\n"
          ]
        }
      ]
    },
    {
      "cell_type": "markdown",
      "source": [
        "list는 [  ]를 사용해서 나타낸다. 리스트 안에는 number, string, list가 다 들어갈 수 있다. "
      ],
      "metadata": {
        "id": "hWGypwHIquI7"
      }
    },
    {
      "cell_type": "code",
      "source": [
        "print(a[0])\n",
        "a[2]"
      ],
      "metadata": {
        "colab": {
          "base_uri": "https://localhost:8080/"
        },
        "id": "9ZCJL0_jrXtw",
        "outputId": "81c6f6eb-621b-43ee-936c-6bc28a71863d"
      },
      "execution_count": null,
      "outputs": [
        {
          "output_type": "stream",
          "name": "stdout",
          "text": [
            "1\n"
          ]
        },
        {
          "output_type": "execute_result",
          "data": {
            "text/plain": [
              "3"
            ]
          },
          "metadata": {},
          "execution_count": 24
        }
      ]
    },
    {
      "cell_type": "markdown",
      "source": [
        "4아이템 중에 몇 개만 꺼내 쓰는 거를 indexing이라고 한다. \n",
        "꺼내쓸 때는 print(변수[순서])로 치면 된다. 마지막 줄에 오는 index의 경우에는 print를 치지 않고 변수[순서]라고만 쳐도 된다. 순서는 0부터 시작한다. a[:]는 전부다 라는 뜻"
      ],
      "metadata": {
        "id": "zRyTRFJrrZxn"
      }
    },
    {
      "cell_type": "code",
      "source": [
        "print(a[1:2]); a[0:3]"
      ],
      "metadata": {
        "colab": {
          "base_uri": "https://localhost:8080/"
        },
        "id": "QEK0Q6xUspLn",
        "outputId": "2ae90b1a-e6ed-4f37-fb19-311dcff4e3e2"
      },
      "execution_count": null,
      "outputs": [
        {
          "output_type": "stream",
          "name": "stdout",
          "text": [
            "[2]\n"
          ]
        },
        {
          "output_type": "execute_result",
          "data": {
            "text/plain": [
              "[1, 2, 3]"
            ]
          },
          "metadata": {},
          "execution_count": 26
        }
      ]
    },
    {
      "cell_type": "markdown",
      "source": [
        "a[1:2]라고 하면 1번째부터 2번째 전까지 꺼내라는 뜻. 즉, 2만 나온다.\n",
        "a[0:3]라고 하면 0번째부터 3번째 전까지라는 뜻. 즉, 1,2만 나온다. "
      ],
      "metadata": {
        "id": "YJJQrU64sziG"
      }
    },
    {
      "cell_type": "code",
      "source": [
        "a=[1,2,3,4,5,6,7,8,9,10]"
      ],
      "metadata": {
        "id": "QmusRi7ytlyr"
      },
      "execution_count": null,
      "outputs": []
    },
    {
      "cell_type": "code",
      "source": [
        "print(a[2:]);print(a[1:-1])"
      ],
      "metadata": {
        "colab": {
          "base_uri": "https://localhost:8080/"
        },
        "id": "ReILmzRutxr1",
        "outputId": "67941890-b752-42c5-a7b8-682ed15c1cff"
      },
      "execution_count": null,
      "outputs": [
        {
          "output_type": "stream",
          "name": "stdout",
          "text": [
            "[3, 4, 5, 6, 7, 8, 9, 10]\n",
            "[2, 3, 4, 5, 6, 7, 8, 9]\n"
          ]
        }
      ]
    },
    {
      "cell_type": "markdown",
      "source": [
        "a[1:-1]은 1번째부터 끝에서 -1까지 꺼내라는 뜻"
      ],
      "metadata": {
        "id": "ZyVPE_WIuK4O"
      }
    },
    {
      "cell_type": "code",
      "source": [
        "b=[1,'a',[3,'4']]"
      ],
      "metadata": {
        "id": "EhEHd_iHunOb"
      },
      "execution_count": null,
      "outputs": []
    },
    {
      "cell_type": "code",
      "source": [
        "print(b[2][0])\n",
        "b[2][1]"
      ],
      "metadata": {
        "colab": {
          "base_uri": "https://localhost:8080/",
          "height": 55
        },
        "id": "Bucs44e8u4CA",
        "outputId": "5e902659-3c10-4e00-be46-263a77c97afc"
      },
      "execution_count": null,
      "outputs": [
        {
          "output_type": "stream",
          "name": "stdout",
          "text": [
            "3\n"
          ]
        },
        {
          "output_type": "execute_result",
          "data": {
            "text/plain": [
              "'4'"
            ],
            "application/vnd.google.colaboratory.intrinsic+json": {
              "type": "string"
            }
          },
          "metadata": {},
          "execution_count": 31
        }
      ]
    },
    {
      "cell_type": "markdown",
      "source": [
        "b안에 들어있는 리스트에서 특정 수만 꺼내고 싶으면 b[2][1]이런 방식으로 치기"
      ],
      "metadata": {
        "id": "lxczzumkvB0j"
      }
    },
    {
      "cell_type": "code",
      "source": [
        "a='abcdef123'"
      ],
      "metadata": {
        "id": "7uiBRlyAvK5q"
      },
      "execution_count": null,
      "outputs": []
    },
    {
      "cell_type": "code",
      "source": [
        "print(a[:3])\n",
        "a[3:-1]"
      ],
      "metadata": {
        "colab": {
          "base_uri": "https://localhost:8080/",
          "height": 55
        },
        "id": "J5DpbFiXv6tO",
        "outputId": "9514c38a-ee39-4be1-9f2d-34ca47c3e4ca"
      },
      "execution_count": null,
      "outputs": [
        {
          "output_type": "stream",
          "name": "stdout",
          "text": [
            "abc\n"
          ]
        },
        {
          "output_type": "execute_result",
          "data": {
            "text/plain": [
              "'def12'"
            ],
            "application/vnd.google.colaboratory.intrinsic+json": {
              "type": "string"
            }
          },
          "metadata": {},
          "execution_count": 33
        }
      ]
    },
    {
      "cell_type": "markdown",
      "source": [
        "string에서도 list와 마찬가지로 특정 변수만 꺼내올 수 있다. a[  ] 이런 방식으로"
      ],
      "metadata": {
        "id": "EyZkN0kRvu2I"
      }
    },
    {
      "cell_type": "code",
      "source": [
        "a=[1,2,3]"
      ],
      "metadata": {
        "id": "8N0nGZGwwZrd"
      },
      "execution_count": null,
      "outputs": []
    },
    {
      "cell_type": "code",
      "source": [
        "a[1]=0"
      ],
      "metadata": {
        "id": "ozMOvHEzxDzG"
      },
      "execution_count": null,
      "outputs": []
    },
    {
      "cell_type": "code",
      "source": [
        "print(a)"
      ],
      "metadata": {
        "colab": {
          "base_uri": "https://localhost:8080/"
        },
        "id": "dIKwThePxJS0",
        "outputId": "043749ad-3d00-4938-a470-9eb5340e901e"
      },
      "execution_count": null,
      "outputs": [
        {
          "output_type": "stream",
          "name": "stdout",
          "text": [
            "[1, 0, 3]\n"
          ]
        }
      ]
    },
    {
      "cell_type": "markdown",
      "source": [
        "변수에는 숫자, string, list(tuple), dict가 있다. \n",
        "list는 a[1,2,3]\n",
        "tuple은 a(1,2,3) tuple은 list와 다르게 안에 들어있는 항목을 바꾸지 못한다. "
      ],
      "metadata": {
        "id": "939y407fwjy9"
      }
    },
    {
      "cell_type": "code",
      "source": [
        "a={'a':'apple','b':'orange',c:2014}"
      ],
      "metadata": {
        "id": "gWKdxSNkxy-g"
      },
      "execution_count": null,
      "outputs": []
    },
    {
      "cell_type": "code",
      "source": [
        "type(a)"
      ],
      "metadata": {
        "colab": {
          "base_uri": "https://localhost:8080/"
        },
        "id": "Fi2eq81tyN1-",
        "outputId": "a7b66903-f366-4c0f-a01c-10f5520becda"
      },
      "execution_count": null,
      "outputs": [
        {
          "output_type": "execute_result",
          "data": {
            "text/plain": [
              "dict"
            ]
          },
          "metadata": {},
          "execution_count": 40
        }
      ]
    },
    {
      "cell_type": "code",
      "source": [
        "print(a['a'])\n",
        "a[c]"
      ],
      "metadata": {
        "colab": {
          "base_uri": "https://localhost:8080/"
        },
        "id": "KywrJl8qyjMg",
        "outputId": "be7dbc52-8dee-4c55-bfb7-d9f1de4a8090"
      },
      "execution_count": null,
      "outputs": [
        {
          "output_type": "stream",
          "name": "stdout",
          "text": [
            "apple\n"
          ]
        },
        {
          "output_type": "execute_result",
          "data": {
            "text/plain": [
              "2014"
            ]
          },
          "metadata": {},
          "execution_count": 46
        }
      ]
    },
    {
      "cell_type": "markdown",
      "source": [
        "\"a\"가 key, \"apple\"이 value. dict는 앞에 있는 key, 제목값에 접근할 수 있게 한다. 그래서 a['a']라고 치면 apple이 나온다. \n",
        "\n",
        "---\n",
        "여기까지 변수\n"
      ],
      "metadata": {
        "id": "eGq1sIM-ydwM"
      }
    },
    {
      "cell_type": "code",
      "source": [
        "s='abcdef'\n",
        "print(s[0],s[5],s[-1],s[-6])\n",
        "print(s[1:3],s[1:],s[:3],s[:])"
      ],
      "metadata": {
        "id": "Alh155CC0yOE",
        "colab": {
          "base_uri": "https://localhost:8080/"
        },
        "outputId": "7fb652e9-7586-4f57-b211-30bbfc99dbb0"
      },
      "execution_count": null,
      "outputs": [
        {
          "output_type": "stream",
          "name": "stdout",
          "text": [
            "a f f a\n",
            "bc bcdef abc abcdef\n"
          ]
        }
      ]
    },
    {
      "cell_type": "code",
      "source": [
        "n=[100,200,300]\n",
        "print(n[0],n[2],n[-1],n[-3])\n",
        "print(n[1:2],n[1:],n[:2],n[:])"
      ],
      "metadata": {
        "colab": {
          "base_uri": "https://localhost:8080/"
        },
        "id": "s9xYLJhtpw7D",
        "outputId": "d75654e5-58ac-4dd6-8a8f-f443920112ab"
      },
      "execution_count": null,
      "outputs": [
        {
          "output_type": "stream",
          "name": "stdout",
          "text": [
            "100 300 300 100\n",
            "[200] [200, 300] [100, 200] [100, 200, 300]\n"
          ]
        }
      ]
    },
    {
      "cell_type": "markdown",
      "source": [
        "string, list에서 index하는 방법 동일"
      ],
      "metadata": {
        "id": "orKYwo51qpV4"
      }
    },
    {
      "cell_type": "code",
      "source": [
        "len(s)"
      ],
      "metadata": {
        "colab": {
          "base_uri": "https://localhost:8080/"
        },
        "id": "Zt6TJMxlqs81",
        "outputId": "bdc1a0fd-51ca-4c87-d9d2-cb57942a5c6c"
      },
      "execution_count": null,
      "outputs": [
        {
          "output_type": "execute_result",
          "data": {
            "text/plain": [
              "6"
            ]
          },
          "metadata": {},
          "execution_count": 5
        }
      ]
    },
    {
      "cell_type": "markdown",
      "source": [
        "len(s)는 s의 길이를 말한다. "
      ],
      "metadata": {
        "id": "WDzMCKFCq173"
      }
    },
    {
      "cell_type": "code",
      "source": [
        "s[1]+s[3]+s[4:]*10"
      ],
      "metadata": {
        "colab": {
          "base_uri": "https://localhost:8080/",
          "height": 36
        },
        "id": "xLfo-egcq_0j",
        "outputId": "dd378acb-03a6-4ef0-a06a-6fb57659be51"
      },
      "execution_count": null,
      "outputs": [
        {
          "output_type": "execute_result",
          "data": {
            "text/plain": [
              "'bdefefefefefefefefefef'"
            ],
            "application/vnd.google.colaboratory.intrinsic+json": {
              "type": "string"
            }
          },
          "metadata": {},
          "execution_count": 6
        }
      ]
    },
    {
      "cell_type": "code",
      "source": [
        "s.upper()"
      ],
      "metadata": {
        "colab": {
          "base_uri": "https://localhost:8080/",
          "height": 36
        },
        "id": "DDgA1kEfrT_z",
        "outputId": "8bcc8e11-c63d-495a-e0e2-46da08b1f991"
      },
      "execution_count": null,
      "outputs": [
        {
          "output_type": "execute_result",
          "data": {
            "text/plain": [
              "'ABCDEF'"
            ],
            "application/vnd.google.colaboratory.intrinsic+json": {
              "type": "string"
            }
          },
          "metadata": {},
          "execution_count": 7
        }
      ]
    },
    {
      "cell_type": "code",
      "source": [
        "c='apple'\n",
        "c.upper()"
      ],
      "metadata": {
        "colab": {
          "base_uri": "https://localhost:8080/",
          "height": 36
        },
        "id": "TrfTA0kwsUCM",
        "outputId": "ff1eae8a-3b2e-418c-9faa-1beff50cee03"
      },
      "execution_count": null,
      "outputs": [
        {
          "output_type": "execute_result",
          "data": {
            "text/plain": [
              "'APPLE'"
            ],
            "application/vnd.google.colaboratory.intrinsic+json": {
              "type": "string"
            }
          },
          "metadata": {},
          "execution_count": 10
        }
      ]
    },
    {
      "cell_type": "markdown",
      "source": [
        "s.upper()  s를 대문자로 만들어라"
      ],
      "metadata": {
        "id": "krL00DEArfo3"
      }
    },
    {
      "cell_type": "code",
      "source": [
        "s=' this is a house built this year.'\n",
        "s"
      ],
      "metadata": {
        "colab": {
          "base_uri": "https://localhost:8080/",
          "height": 36
        },
        "id": "i9tdqG17ssDH",
        "outputId": "3d56a815-78a6-4e85-ff8c-ffca4696860f"
      },
      "execution_count": null,
      "outputs": [
        {
          "output_type": "execute_result",
          "data": {
            "text/plain": [
              "' this is a house built this year.'"
            ],
            "application/vnd.google.colaboratory.intrinsic+json": {
              "type": "string"
            }
          },
          "metadata": {},
          "execution_count": 27
        }
      ]
    },
    {
      "cell_type": "code",
      "source": [
        "result=s.find('house')\n",
        "result"
      ],
      "metadata": {
        "colab": {
          "base_uri": "https://localhost:8080/"
        },
        "id": "EBFqgDeqtGFV",
        "outputId": "ca1ca385-0c8a-475b-98ea-94b9693a2b55"
      },
      "execution_count": null,
      "outputs": [
        {
          "output_type": "execute_result",
          "data": {
            "text/plain": [
              "11"
            ]
          },
          "metadata": {},
          "execution_count": 15
        }
      ]
    },
    {
      "cell_type": "markdown",
      "source": [
        "s에서 house를 찾고 그 값을 result에 넣어라.\n",
        "이 때 10은 house가 10번째에 시작한다는 뜻"
      ],
      "metadata": {
        "id": "_3r4e4-LtREI"
      }
    },
    {
      "cell_type": "code",
      "source": [
        "s=s.strip()\n",
        "s"
      ],
      "metadata": {
        "colab": {
          "base_uri": "https://localhost:8080/",
          "height": 36
        },
        "id": "mN6TzbO8t6X_",
        "outputId": "bc139118-ac93-4f9d-e667-a19b4380bda2"
      },
      "execution_count": null,
      "outputs": [
        {
          "output_type": "execute_result",
          "data": {
            "text/plain": [
              "'this is a house built this year.'"
            ],
            "application/vnd.google.colaboratory.intrinsic+json": {
              "type": "string"
            }
          },
          "metadata": {},
          "execution_count": 28
        }
      ]
    },
    {
      "cell_type": "markdown",
      "source": [
        "s.strip()-s의 처음이나 끝에 있는 whitespace가 있으면 지워라.\n",
        "그리고 그거를 다시 s에 담아라"
      ],
      "metadata": {
        "id": "fKS2sEqZuAl3"
      }
    },
    {
      "cell_type": "code",
      "source": [
        "tokens=s.split(' ')\n",
        "tokens"
      ],
      "metadata": {
        "colab": {
          "base_uri": "https://localhost:8080/"
        },
        "id": "N2hAq6rquyVS",
        "outputId": "35fa2954-0900-4421-f4c2-00e4a4d6430a"
      },
      "execution_count": null,
      "outputs": [
        {
          "output_type": "execute_result",
          "data": {
            "text/plain": [
              "['this', 'is', 'a', 'house', 'built', 'this', 'year.']"
            ]
          },
          "metadata": {},
          "execution_count": 29
        }
      ]
    },
    {
      "cell_type": "markdown",
      "source": [
        "s.split(' ')-빈칸을 중심으로 쪼개서 리스트를 만들어라. 그리고 그거를 tokens에 넣어라. 빈칸은 리스트에 포함되지 않는다. \n",
        "\n",
        "\n"
      ],
      "metadata": {
        "id": "HIzr-lNQvGzR"
      }
    },
    {
      "cell_type": "code",
      "source": [
        "s=s.split('e')\n",
        "s"
      ],
      "metadata": {
        "colab": {
          "base_uri": "https://localhost:8080/"
        },
        "id": "kzTqkPDzvbJ3",
        "outputId": "81a96ae2-a68b-4ded-8599-cc4fb004bfef"
      },
      "execution_count": null,
      "outputs": [
        {
          "output_type": "execute_result",
          "data": {
            "text/plain": [
              "['this is a hous', ' built this y', 'ar.']"
            ]
          },
          "metadata": {},
          "execution_count": 24
        }
      ]
    },
    {
      "cell_type": "markdown",
      "source": [
        "여기서도 마찬가지로 e는 리스트에 포함되지 않는다. "
      ],
      "metadata": {
        "id": "01iKkqrnwNMZ"
      }
    },
    {
      "cell_type": "code",
      "source": [
        "s=' '.join(tokens)\n",
        "s"
      ],
      "metadata": {
        "colab": {
          "base_uri": "https://localhost:8080/",
          "height": 36
        },
        "id": "N4rIQFVNwF_J",
        "outputId": "7cb4218b-df15-4ae1-9387-9a00786b8c52"
      },
      "execution_count": null,
      "outputs": [
        {
          "output_type": "execute_result",
          "data": {
            "text/plain": [
              "'this is a house built this year.'"
            ],
            "application/vnd.google.colaboratory.intrinsic+json": {
              "type": "string"
            }
          },
          "metadata": {},
          "execution_count": 31
        }
      ]
    },
    {
      "cell_type": "markdown",
      "source": [
        "다시 원래 문장으로 돌이키고 싶다면 ' '.join(tokens)-빈칸을 다시 붙여라."
      ],
      "metadata": {
        "id": "wSy8a8ETw4dR"
      }
    },
    {
      "cell_type": "code",
      "source": [
        "s=s.replace('this','that')\n",
        "s"
      ],
      "metadata": {
        "colab": {
          "base_uri": "https://localhost:8080/",
          "height": 36
        },
        "id": "hefM2hxSxFQE",
        "outputId": "ec4714d8-9a32-48c3-8b5f-760fd8226384"
      },
      "execution_count": null,
      "outputs": [
        {
          "output_type": "execute_result",
          "data": {
            "text/plain": [
              "'that is a house built that year.'"
            ],
            "application/vnd.google.colaboratory.intrinsic+json": {
              "type": "string"
            }
          },
          "metadata": {},
          "execution_count": 32
        }
      ]
    },
    {
      "cell_type": "code",
      "source": [
        "s=s.replace('is','are')\n",
        "s"
      ],
      "metadata": {
        "colab": {
          "base_uri": "https://localhost:8080/",
          "height": 36
        },
        "id": "UmhZNH2jxNv4",
        "outputId": "b3dd05be-2c18-4348-bfeb-7e349f027ce9"
      },
      "execution_count": null,
      "outputs": [
        {
          "output_type": "execute_result",
          "data": {
            "text/plain": [
              "'that are a house built that year.'"
            ],
            "application/vnd.google.colaboratory.intrinsic+json": {
              "type": "string"
            }
          },
          "metadata": {},
          "execution_count": 33
        }
      ]
    },
    {
      "cell_type": "markdown",
      "source": [
        "s.replace('단어','단어')-s안에 있는 단어를 다른 단어로 바꾸고 싶을 때\n",
        "\n",
        "\n",
        "---\n",
        "여기부터 function\n",
        "\n"
      ],
      "metadata": {
        "id": "shSEh4KwxUJ9"
      }
    },
    {
      "cell_type": "code",
      "source": [
        "def add(a,b):\n",
        "  return a+b"
      ],
      "metadata": {
        "id": "FlzlJ9FUx1w-"
      },
      "execution_count": null,
      "outputs": []
    },
    {
      "cell_type": "code",
      "source": [
        "c=add(1,2)\n",
        "c"
      ],
      "metadata": {
        "colab": {
          "base_uri": "https://localhost:8080/"
        },
        "id": "WiVmtMFuzaQM",
        "outputId": "015501bf-75bc-4f21-f06f-91c81709ccaf"
      },
      "execution_count": null,
      "outputs": [
        {
          "output_type": "execute_result",
          "data": {
            "text/plain": [
              "3"
            ]
          },
          "metadata": {},
          "execution_count": 35
        }
      ]
    },
    {
      "cell_type": "markdown",
      "source": [
        "def: define, 함수를 정의한다.  \n",
        "\n",
        "*   def 함수명(입력변수1,입력변수2):\n",
        "*   return 출력변수명\n",
        "\n",
        "\n",
        "\n"
      ],
      "metadata": {
        "id": "63LKp47byK4T"
      }
    },
    {
      "cell_type": "code",
      "source": [
        "def subtract(a,b):\n",
        "  c=a-b\n",
        "  return c"
      ],
      "metadata": {
        "id": "3jYZpkId0AGt"
      },
      "execution_count": null,
      "outputs": []
    },
    {
      "cell_type": "code",
      "source": [
        "subtract(5,3)"
      ],
      "metadata": {
        "colab": {
          "base_uri": "https://localhost:8080/"
        },
        "id": "HKLE8tJq0eqe",
        "outputId": "4b5f6e23-a211-4aa2-9d84-7836e301db96"
      },
      "execution_count": null,
      "outputs": [
        {
          "output_type": "execute_result",
          "data": {
            "text/plain": [
              "2"
            ]
          },
          "metadata": {},
          "execution_count": 41
        }
      ]
    },
    {
      "cell_type": "markdown",
      "source": [
        "---\n",
        "여기부터 syntax\n",
        "\n",
        "\n",
        "*   반복문 for\n",
        "*   조건문 if\n",
        "\n",
        "\n",
        "\n",
        "\n",
        "\n"
      ],
      "metadata": {
        "id": "NyEumkbv1XFw"
      }
    },
    {
      "cell_type": "code",
      "source": [
        "a=[1,2,3,4]\n",
        "for i in a:\n",
        "  print(i)"
      ],
      "metadata": {
        "colab": {
          "base_uri": "https://localhost:8080/"
        },
        "id": "j2AGYlX61Ztx",
        "outputId": "7681bc13-fba3-4912-8504-cf3fb2e9ef39"
      },
      "execution_count": null,
      "outputs": [
        {
          "output_type": "stream",
          "name": "stdout",
          "text": [
            "1\n",
            "2\n",
            "3\n",
            "4\n"
          ]
        }
      ]
    },
    {
      "cell_type": "code",
      "source": [
        "b=['i','am','hungry']\n",
        "for s in b:\n",
        "  print(s)"
      ],
      "metadata": {
        "colab": {
          "base_uri": "https://localhost:8080/"
        },
        "id": "RxgP8m2D3LaX",
        "outputId": "59e8c9b5-4643-4dd2-97c3-75b229143386"
      },
      "execution_count": null,
      "outputs": [
        {
          "output_type": "stream",
          "name": "stdout",
          "text": [
            "i\n",
            "am\n",
            "hungry\n"
          ]
        }
      ]
    },
    {
      "cell_type": "markdown",
      "source": [
        "for i in a:\n",
        "\n",
        "\n",
        "> print(i)\n",
        "\n",
        "> a에서 하나하나씩 받아서 i에 넣고 시스템을 돌린다. 즉, a에서 하나씩 꺼낸 다음에 print(i)를 실행한다. \n",
        "\n",
        "\n",
        "\n",
        "\n"
      ],
      "metadata": {
        "id": "WJHeYECS2a5o"
      }
    },
    {
      "cell_type": "code",
      "source": [
        "a=[1,2,3,4]\n",
        "for i in range(len(a)):\n",
        "  print(a[i])"
      ],
      "metadata": {
        "colab": {
          "base_uri": "https://localhost:8080/"
        },
        "id": "-dg3vYz53Ao1",
        "outputId": "3e23f290-6246-408f-e176-7cf472b6235a"
      },
      "execution_count": null,
      "outputs": [
        {
          "output_type": "stream",
          "name": "stdout",
          "text": [
            "1\n",
            "2\n",
            "3\n",
            "4\n"
          ]
        }
      ]
    },
    {
      "cell_type": "code",
      "source": [
        "a=[1,2,3,4]\n",
        "for i in range(4):\n",
        "  print(a[i])"
      ],
      "metadata": {
        "colab": {
          "base_uri": "https://localhost:8080/"
        },
        "id": "WK2-z8sR33fJ",
        "outputId": "614306f5-bc7a-419a-bd78-812abffb557b"
      },
      "execution_count": null,
      "outputs": [
        {
          "output_type": "stream",
          "name": "stdout",
          "text": [
            "1\n",
            "2\n",
            "3\n",
            "4\n"
          ]
        }
      ]
    },
    {
      "cell_type": "markdown",
      "source": [
        "range(4)라고 하면 [0,1,2,3]의 list가 만들어진다.\n",
        "\n",
        "> for i in range(4)라고 하면 일단 0이 i에 들어간다\n",
        "\n",
        "> print(a[i])의 i자리에 그러면 0이 들어간다. print(a[0])\n",
        "\n",
        "> 그래서 결론적으로 1이 나온다. 이거를 계속 반복하는 것\n",
        "\n",
        "\n",
        "\n",
        "\n",
        "\n"
      ],
      "metadata": {
        "id": "ZLKIzn2X4Rel"
      }
    },
    {
      "cell_type": "code",
      "source": [
        "a=['red','green','blue','purple']\n",
        "for c in a:\n",
        "  print(c)"
      ],
      "metadata": {
        "colab": {
          "base_uri": "https://localhost:8080/"
        },
        "id": "0YX2kr564xOW",
        "outputId": "57243a22-466d-4ed4-f669-a7029f55abd3"
      },
      "execution_count": null,
      "outputs": [
        {
          "output_type": "stream",
          "name": "stdout",
          "text": [
            "red\n",
            "green\n",
            "blue\n",
            "purple\n"
          ]
        }
      ]
    },
    {
      "cell_type": "code",
      "source": [
        "a=0\n",
        "if a==0:\n",
        "  print(a)"
      ],
      "metadata": {
        "colab": {
          "base_uri": "https://localhost:8080/"
        },
        "id": "HP9i9qHl5kyh",
        "outputId": "16dd3660-b6ae-4cf0-d53f-4c0d54c48192"
      },
      "execution_count": null,
      "outputs": [
        {
          "output_type": "stream",
          "name": "stdout",
          "text": [
            "0\n"
          ]
        }
      ]
    },
    {
      "cell_type": "markdown",
      "source": [
        "==:같다는 표시\n",
        "\n",
        "*   a=0에서 =는 그냥 a 안에 0이라는 값을 assign, 할당하는 것. 같다는 표시는 ==\n",
        "*   아니라는 표시는 !=\n",
        "\n",
        "\n",
        "\n",
        "\n",
        "\n"
      ],
      "metadata": {
        "id": "xUywI4lP5tSe"
      }
    },
    {
      "cell_type": "code",
      "source": [
        "a=0\n",
        "if a!=0:\n",
        "  print(a)\n",
        "else:\n",
        "  print(a+1)"
      ],
      "metadata": {
        "colab": {
          "base_uri": "https://localhost:8080/"
        },
        "id": "ybirVinC6GgB",
        "outputId": "37f2286d-9cd3-4496-e12b-02c2f4a16ac2"
      },
      "execution_count": null,
      "outputs": [
        {
          "output_type": "stream",
          "name": "stdout",
          "text": [
            "1\n"
          ]
        }
      ]
    },
    {
      "cell_type": "markdown",
      "source": [
        "만약 a가 0이 아니라면 print(a)하고, 나머지 경우라면 즉, a가 0이라면 print(a+1)을 해라."
      ],
      "metadata": {
        "id": "aMLqxntA6Ued"
      }
    },
    {
      "cell_type": "code",
      "source": [
        "for i in range(1,3):\n",
        "  for j in range(3,5):\n",
        "    print(i*j)"
      ],
      "metadata": {
        "colab": {
          "base_uri": "https://localhost:8080/"
        },
        "id": "Xb-bScZw6dQu",
        "outputId": "5276442d-6dcd-4f96-9923-def6fafd0f26"
      },
      "execution_count": null,
      "outputs": [
        {
          "output_type": "stream",
          "name": "stdout",
          "text": [
            "3\n",
            "4\n",
            "6\n",
            "8\n"
          ]
        }
      ]
    },
    {
      "cell_type": "markdown",
      "source": [
        "\n",
        "\n",
        "1.   range(4)는 [0,1,2,3]이라고 했지?\n",
        "\n",
        "> range(1,3)은 [1,2]\n",
        "\n",
        "> range(3,5)는 [3,4]\n",
        "\n",
        "2.   먼저 i에 1이 들어가. 그 상태에서 j에 3이 들어가. \n",
        "3.   그러면 print(i*j)하면 1x3=3이 나오겠지?\n",
        "4.   이제 j에 4가 들어갈 차례지? 그럼 다음 차례에는 1x4=4가 나오겠지?\n",
        "5.   마찬가지 방식으로 쭈욱 하다보면 3,4,5,8이 나오는거야.\n",
        "6.   가지치기 방식으로, 위에 하나 해결하고 밑에 다 해결, 다시 나머지 위에 하나 하고 밑에 다 해결"
      ],
      "metadata": {
        "id": "RiyPmBPO6sZT"
      }
    },
    {
      "cell_type": "code",
      "source": [
        "for i in range(1,3):\n",
        "  for j in range(3,5):\n",
        "    if j>=4:\n",
        "      print(i*j)"
      ],
      "metadata": {
        "colab": {
          "base_uri": "https://localhost:8080/"
        },
        "id": "yJFiBVRW83ci",
        "outputId": "3c590447-edfd-4ddb-f9fa-085bad2aa826"
      },
      "execution_count": null,
      "outputs": [
        {
          "output_type": "stream",
          "name": "stdout",
          "text": [
            "4\n",
            "8\n"
          ]
        }
      ]
    },
    {
      "cell_type": "code",
      "source": [
        "a=[1,2,3,4]\n",
        "b=[i for i in a if i>=2]\n",
        "b"
      ],
      "metadata": {
        "colab": {
          "base_uri": "https://localhost:8080/"
        },
        "id": "DkE4dNaJ9ush",
        "outputId": "f66911f1-f2bc-401e-b2fd-3be9e51fe513"
      },
      "execution_count": null,
      "outputs": [
        {
          "output_type": "execute_result",
          "data": {
            "text/plain": [
              "[2, 3, 4]"
            ]
          },
          "metadata": {},
          "execution_count": 54
        }
      ]
    },
    {
      "cell_type": "markdown",
      "source": [
        "\n",
        "\n",
        "1.   a에서 하나씩 꺼내서 i에 넣어. 먼저 1. 근데 1은 2보다 같거나 작지 않지. 그러니까 불통\n",
        "2.   2를 i에 넣어 근데 2는 if조건 만족시키지. 그러면 통과해서 i에 들어가\n",
        "3.  3,4도 마찬가지로 통과해서 i에 들어가.\n"
      ],
      "metadata": {
        "id": "B0XMp26S-T1G"
      }
    },
    {
      "cell_type": "code",
      "source": [
        "a=['red','green','blue','purple']\n",
        "b=[i for i in a if len(i)>=4]\n",
        "b"
      ],
      "metadata": {
        "colab": {
          "base_uri": "https://localhost:8080/"
        },
        "id": "BGz41NjO-2fm",
        "outputId": "2afe1ce8-9d6a-47e6-f348-f8b0c05316d5"
      },
      "execution_count": null,
      "outputs": [
        {
          "output_type": "execute_result",
          "data": {
            "text/plain": [
              "['green', 'blue', 'purple']"
            ]
          },
          "metadata": {},
          "execution_count": 56
        }
      ]
    },
    {
      "cell_type": "code",
      "source": [
        "a=['red','green','blue','purple']\n",
        "b=[1,2,3,4]\n",
        "c={a[i]:b[i] for i in range(4)}\n",
        "c"
      ],
      "metadata": {
        "colab": {
          "base_uri": "https://localhost:8080/"
        },
        "id": "6LnXcy1y-2eW",
        "outputId": "3016d704-080f-4e4b-a862-486804b45db9"
      },
      "execution_count": null,
      "outputs": [
        {
          "output_type": "execute_result",
          "data": {
            "text/plain": [
              "{'blue': 3, 'green': 2, 'purple': 4, 'red': 1}"
            ]
          },
          "metadata": {},
          "execution_count": 58
        }
      ]
    },
    {
      "cell_type": "code",
      "source": [
        "print(c['blue'])"
      ],
      "metadata": {
        "colab": {
          "base_uri": "https://localhost:8080/"
        },
        "id": "-N6AZAgZB8yd",
        "outputId": "7747cd08-9d4c-4d4c-9397-b36afb7ada7b"
      },
      "execution_count": null,
      "outputs": [
        {
          "output_type": "stream",
          "name": "stdout",
          "text": [
            "3\n"
          ]
        }
      ]
    },
    {
      "cell_type": "markdown",
      "source": [
        "range(4)하면 [0,1,2,3]생긴다고 했었지\n",
        "\n",
        "\n",
        "*   먼저 0이 i에 들어가. 그러면 a[0]:b[0]이지?\n",
        "*   계속 반복해\n",
        "*   a[0]:b[0],a[1]:b[1],a[2]:b[2],a[3],b[3]\n",
        "*   c={'red':1,'green':2,'blue':3,'purple':4}\n",
        "\n",
        "---\n",
        "여기부터 import, numpy, matplotlib\n",
        "\n",
        "\n",
        "\n",
        "\n"
      ],
      "metadata": {
        "id": "tRo1S6hZAhU9"
      }
    },
    {
      "cell_type": "code",
      "source": [
        "import numpy"
      ],
      "metadata": {
        "id": "gyRaESLlCq2h"
      },
      "execution_count": 4,
      "outputs": []
    },
    {
      "cell_type": "code",
      "source": [
        "numpy.random.randn(5)"
      ],
      "metadata": {
        "colab": {
          "base_uri": "https://localhost:8080/"
        },
        "id": "Al5urt5kD8lM",
        "outputId": "5fda692a-af34-4457-bff3-36dfed8e6c2d"
      },
      "execution_count": null,
      "outputs": [
        {
          "output_type": "execute_result",
          "data": {
            "text/plain": [
              "array([-0.37757482,  0.01400211,  0.7959524 ,  0.72092021, -1.95960852])"
            ]
          },
          "metadata": {},
          "execution_count": 64
        }
      ]
    },
    {
      "cell_type": "markdown",
      "source": [
        "numpy 안에 random.randn를 끌어 옴. numpy.random.randm(5)라고 하면 랜덤넘버 5개가 나옴. 이 숫자들은 정규분포를 따라서 나옴. 평균 0 "
      ],
      "metadata": {
        "id": "_2lcR-8wEAbA"
      }
    },
    {
      "cell_type": "code",
      "source": [
        "import numpy as np"
      ],
      "metadata": {
        "id": "WKCWnus1Ekya"
      },
      "execution_count": 6,
      "outputs": []
    },
    {
      "cell_type": "markdown",
      "source": [
        "numpy를 np로 줄여서 쓸 수도 있음. 너무 길어서 쓰기 귀찮을 때"
      ],
      "metadata": {
        "id": "xVqnKD1-EoOM"
      }
    },
    {
      "cell_type": "code",
      "source": [
        "n=np.random.randn(100)"
      ],
      "metadata": {
        "id": "VQz603aiEsV7"
      },
      "execution_count": 7,
      "outputs": []
    },
    {
      "cell_type": "code",
      "source": [
        "import matplotlib"
      ],
      "metadata": {
        "id": "_UkwdzjuE8xl"
      },
      "execution_count": null,
      "outputs": []
    },
    {
      "cell_type": "code",
      "source": [
        "matplotlib.pyplot.hist(n)"
      ],
      "metadata": {
        "colab": {
          "base_uri": "https://localhost:8080/",
          "height": 359
        },
        "id": "PQBFudKOFAgy",
        "outputId": "d76f6ddf-bc6c-4ba2-9e4e-b7d495fdb937"
      },
      "execution_count": null,
      "outputs": [
        {
          "output_type": "execute_result",
          "data": {
            "text/plain": [
              "(array([ 5.,  3., 12., 15., 22., 20., 14.,  6.,  1.,  2.]),\n",
              " array([-2.25645834, -1.75205673, -1.24765511, -0.7432535 , -0.23885189,\n",
              "         0.26554972,  0.76995134,  1.27435295,  1.77875456,  2.28315617,\n",
              "         2.78755778]),\n",
              " <a list of 10 Patch objects>)"
            ]
          },
          "metadata": {},
          "execution_count": 74
        },
        {
          "output_type": "display_data",
          "data": {
            "text/plain": [
              "<Figure size 432x288 with 1 Axes>"
            ],
            "image/png": "[encoded data removed]"
          },
          "metadata": {
            "needs_background": "light"
          }
        }
      ]
    },
    {
      "cell_type": "markdown",
      "source": [
        "hist-히스토그램 만들어줌. "
      ],
      "metadata": {
        "id": "8USI2v45FKpb"
      }
    },
    {
      "cell_type": "code",
      "source": [
        "import matplotlib.pyplot as plt\n",
        "plt.hist(n)"
      ],
      "metadata": {
        "colab": {
          "base_uri": "https://localhost:8080/",
          "height": 359
        },
        "id": "G1t1BhLS3hz-",
        "outputId": "5b69b1d9-85f3-4478-e45e-e82d494f7e82"
      },
      "execution_count": 8,
      "outputs": [
        {
          "output_type": "execute_result",
          "data": {
            "text/plain": [
              "(array([ 3., 10.,  9., 14., 17., 20., 16.,  7.,  2.,  2.]),\n",
              " array([-2.00463258, -1.56310721, -1.12158185, -0.68005648, -0.23853112,\n",
              "         0.20299424,  0.64451961,  1.08604497,  1.52757034,  1.9690957 ,\n",
              "         2.41062107]),\n",
              " <a list of 10 Patch objects>)"
            ]
          },
          "metadata": {},
          "execution_count": 8
        },
        {
          "output_type": "display_data",
          "data": {
            "text/plain": [
              "<Figure size 432x288 with 1 Axes>"
            ],
            "image/png": "[encoded data removed]"
          },
          "metadata": {
            "needs_background": "light"
          }
        }
      ]
    },
    {
      "cell_type": "code",
      "source": [
        "from matplotlib import pyplot\n",
        "pyplot.hist(n)"
      ],
      "metadata": {
        "colab": {
          "base_uri": "https://localhost:8080/",
          "height": 359
        },
        "id": "zpEVx9Er4Ep6",
        "outputId": "5f086b7b-548c-4067-a514-d25fdc516367"
      },
      "execution_count": 9,
      "outputs": [
        {
          "output_type": "execute_result",
          "data": {
            "text/plain": [
              "(array([ 3., 10.,  9., 14., 17., 20., 16.,  7.,  2.,  2.]),\n",
              " array([-2.00463258, -1.56310721, -1.12158185, -0.68005648, -0.23853112,\n",
              "         0.20299424,  0.64451961,  1.08604497,  1.52757034,  1.9690957 ,\n",
              "         2.41062107]),\n",
              " <a list of 10 Patch objects>)"
            ]
          },
          "metadata": {},
          "execution_count": 9
        },
        {
          "output_type": "display_data",
          "data": {
            "text/plain": [
              "<Figure size 432x288 with 1 Axes>"
            ],
            "image/png": "[encoded data removed]"
          },
          "metadata": {
            "needs_background": "light"
          }
        }
      ]
    },
    {
      "cell_type": "markdown",
      "source": [
        "from import를 쓰면 import as처럼 축약해서 부를 수 있다. \n",
        "\n",
        "---\n",
        "여기까지 import하는 방법"
      ],
      "metadata": {
        "id": "QC18-vOo4W7N"
      }
    },
    {
      "cell_type": "code",
      "source": [
        "import numpy as np"
      ],
      "metadata": {
        "id": "J9dCv-am4qsQ"
      },
      "execution_count": 10,
      "outputs": []
    },
    {
      "cell_type": "markdown",
      "source": [
        "matrix(행렬):직사각형의 숫자 배열\n",
        "\n",
        "> nd array:n dimensional array\n",
        "\n",
        "> create nd arrays(matrices)\n",
        "\n",
        "\n",
        "\n"
      ],
      "metadata": {
        "id": "jTdkpsoE5GC2"
      }
    },
    {
      "cell_type": "code",
      "source": [
        "x=np.array([1,2,3,4])\n",
        "print(x)\n",
        "print(type(x))\n",
        "print(x.shape)"
      ],
      "metadata": {
        "colab": {
          "base_uri": "https://localhost:8080/"
        },
        "id": "6GIovkj75dTV",
        "outputId": "f2b28b98-4db0-4820-84c2-d8453d293e8c"
      },
      "execution_count": 12,
      "outputs": [
        {
          "output_type": "stream",
          "name": "stdout",
          "text": [
            "[1 2 3 4]\n",
            "<class 'numpy.ndarray'>\n",
            "(4,)\n"
          ]
        }
      ]
    },
    {
      "cell_type": "markdown",
      "source": [
        "\n",
        "\n",
        "> np.array:list를 array로 바꿔라. \n",
        "\n",
        "> class는 특수한 변수. class 'numpy.ndarray' 특수한 변수 numpy.ndarray\n",
        "\n",
        "> 4개짜리 1차원 array라는 뜻\n",
        "\n",
        "\n",
        "\n",
        "\n",
        "\n"
      ],
      "metadata": {
        "id": "qLrznmn651-T"
      }
    },
    {
      "cell_type": "code",
      "source": [
        "x=np.arange(0,10,3)\n",
        "print(x)\n",
        "print(type(x))\n",
        "print(x.shape)"
      ],
      "metadata": {
        "colab": {
          "base_uri": "https://localhost:8080/"
        },
        "id": "35cEiM6v6n0v",
        "outputId": "75a537e6-64f6-4c95-ce88-6ffcd2b9fde1"
      },
      "execution_count": 13,
      "outputs": [
        {
          "output_type": "stream",
          "name": "stdout",
          "text": [
            "[0 3 6 9]\n",
            "<class 'numpy.ndarray'>\n",
            "(4,)\n"
          ]
        }
      ]
    },
    {
      "cell_type": "code",
      "source": [
        "x=np.arange(0,10,5)\n",
        "print(x)\n",
        "print(type(x))\n",
        "print(x.shape)"
      ],
      "metadata": {
        "colab": {
          "base_uri": "https://localhost:8080/"
        },
        "id": "LwlhOUWo7kkd",
        "outputId": "387d9409-5b06-4432-a2cb-7ecdc59bc526"
      },
      "execution_count": 15,
      "outputs": [
        {
          "output_type": "stream",
          "name": "stdout",
          "text": [
            "[0 5]\n",
            "<class 'numpy.ndarray'>\n",
            "(2,)\n"
          ]
        }
      ]
    },
    {
      "cell_type": "markdown",
      "source": [
        "\n",
        "\n",
        "> (0,10,3)에서 3은 increment;increment 3만큼해서 배열해라.\n",
        "\n",
        "> 여기서 10은 배열에 포함하지 않음.\n",
        "\n",
        "\n",
        "\n",
        "\n",
        "\n"
      ],
      "metadata": {
        "id": "cMaPt3hj6tDT"
      }
    },
    {
      "cell_type": "code",
      "source": [
        "x=np.linspace(0,10,6)\n",
        "print(x)\n",
        "print(type(x))\n",
        "print(x.shape)"
      ],
      "metadata": {
        "colab": {
          "base_uri": "https://localhost:8080/"
        },
        "id": "mb9rmYrD7Xtp",
        "outputId": "6f851ae6-834f-4d05-e889-af54d0b5578b"
      },
      "execution_count": 16,
      "outputs": [
        {
          "output_type": "stream",
          "name": "stdout",
          "text": [
            "[ 0.  2.  4.  6.  8. 10.]\n",
            "<class 'numpy.ndarray'>\n",
            "(6,)\n"
          ]
        }
      ]
    },
    {
      "cell_type": "markdown",
      "source": [
        "linspace: linear space.\n",
        "\n",
        "> 0부터 10을 포함해서 등분해서 6개의 숫자를 만들어라. linear하게 space를 줘서 숫자를 만들어라.\n",
        "\n"
      ],
      "metadata": {
        "id": "NYl27Diq7bng"
      }
    },
    {
      "cell_type": "code",
      "source": [
        "x=np.array([[1,2,3],[4,5,6]])\n",
        "print(x)\n",
        "print(type(x))\n",
        "print(x.shape)"
      ],
      "metadata": {
        "colab": {
          "base_uri": "https://localhost:8080/"
        },
        "id": "-u8xFIiF8dHy",
        "outputId": "fe78490c-a4c0-4353-f5ba-bda0f3998b2a"
      },
      "execution_count": 17,
      "outputs": [
        {
          "output_type": "stream",
          "name": "stdout",
          "text": [
            "[[1 2 3]\n",
            " [4 5 6]]\n",
            "<class 'numpy.ndarray'>\n",
            "(2, 3)\n"
          ]
        }
      ]
    },
    {
      "cell_type": "markdown",
      "source": [
        "\n",
        "\n",
        "*   (2,3): 2열, 3행의 2d\n",
        "\n"
      ],
      "metadata": {
        "id": "2LP77pxg868u"
      }
    },
    {
      "cell_type": "code",
      "source": [
        "x=np.array([[[1,2,3]],[[7,8,9],[10,11,12]]])\n",
        "print(x)\n",
        "print(type(x))\n",
        "print(x.shape)"
      ],
      "metadata": {
        "colab": {
          "base_uri": "https://localhost:8080/"
        },
        "id": "_ETDXZzL9quv",
        "outputId": "1eb3eede-ca45-44e5-fa8f-ef6a289e255e"
      },
      "execution_count": 23,
      "outputs": [
        {
          "output_type": "stream",
          "name": "stdout",
          "text": [
            "[list([[1, 2, 3]]) list([[7, 8, 9], [10, 11, 12]])]\n",
            "<class 'numpy.ndarray'>\n",
            "(2,)\n"
          ]
        },
        {
          "output_type": "stream",
          "name": "stderr",
          "text": [
            "/usr/local/lib/python3.7/dist-packages/ipykernel_launcher.py:1: VisibleDeprecationWarning: Creating an ndarray from ragged nested sequences (which is a list-or-tuple of lists-or-tuples-or ndarrays with different lengths or shapes) is deprecated. If you meant to do this, you must specify 'dtype=object' when creating the ndarray.\n",
            "  \"\"\"Entry point for launching an IPython kernel.\n"
          ]
        }
      ]
    },
    {
      "cell_type": "markdown",
      "source": [
        "(2,2,3)\n",
        "\n",
        "*   가장 큰 덩어리가 2개\n",
        "*   작은 덩어리의 row가 2개\n",
        "*   행이 3개"
      ],
      "metadata": {
        "id": "yPav8G_W869-"
      }
    },
    {
      "cell_type": "code",
      "source": [
        "x=np.ones([2,2,3])\n",
        "print(x)\n",
        "print(type(x))\n",
        "print(x.shape)"
      ],
      "metadata": {
        "colab": {
          "base_uri": "https://localhost:8080/"
        },
        "id": "_6iuj_CW-5MX",
        "outputId": "49e906fe-ede0-4ee6-9398-dabdcad201aa"
      },
      "execution_count": 25,
      "outputs": [
        {
          "output_type": "stream",
          "name": "stdout",
          "text": [
            "[[[1. 1. 1.]\n",
            "  [1. 1. 1.]]\n",
            "\n",
            " [[1. 1. 1.]\n",
            "  [1. 1. 1.]]]\n",
            "<class 'numpy.ndarray'>\n",
            "(2, 2, 3)\n"
          ]
        }
      ]
    },
    {
      "cell_type": "markdown",
      "source": [
        "2 by 2 by 3 dimension을 만들어라. np.ones: 1로만 만들어라"
      ],
      "metadata": {
        "id": "Tr8Ikzw1_EB_"
      }
    },
    {
      "cell_type": "code",
      "source": [
        "x=np.zeros([2,2,3])\n",
        "print(x)\n",
        "print(type(x))\n",
        "print(x.shape)"
      ],
      "metadata": {
        "colab": {
          "base_uri": "https://localhost:8080/"
        },
        "id": "sKLAQd61_ZKg",
        "outputId": "334b17e1-87d7-43cc-c00e-df13d82e43a8"
      },
      "execution_count": 30,
      "outputs": [
        {
          "output_type": "stream",
          "name": "stdout",
          "text": [
            "[[[0. 0. 0.]\n",
            "  [0. 0. 0.]]\n",
            "\n",
            " [[0. 0. 0.]\n",
            "  [0. 0. 0.]]]\n",
            "<class 'numpy.ndarray'>\n",
            "(2, 2, 3)\n"
          ]
        }
      ]
    },
    {
      "cell_type": "markdown",
      "source": [
        "np.zeros:0으로만 만들어라\n",
        "\n",
        "---\n",
        "create random numbers\n"
      ],
      "metadata": {
        "id": "lBarv4pi_qXQ"
      }
    },
    {
      "cell_type": "code",
      "source": [
        "np.random.normal(0,1,[2,3,4])"
      ],
      "metadata": {
        "colab": {
          "base_uri": "https://localhost:8080/"
        },
        "id": "bG0Na2S9ACQZ",
        "outputId": "cb275db9-c8ad-45f9-e823-f77026fe726d"
      },
      "execution_count": 31,
      "outputs": [
        {
          "output_type": "execute_result",
          "data": {
            "text/plain": [
              "array([[[-1.51290688,  1.55550006,  0.58091609,  0.13929653],\n",
              "        [-0.60201056, -0.45260574, -1.56491261,  0.25698342],\n",
              "        [-0.14015016,  0.54175781, -0.93036301,  0.59870351]],\n",
              "\n",
              "       [[ 1.04611471,  1.3155798 , -0.15109532, -1.51018065],\n",
              "        [ 0.71084119, -1.35638271,  0.14895698,  0.78372643],\n",
              "        [ 0.20173524,  1.13086236, -1.57310896, -0.26781456]]])"
            ]
          },
          "metadata": {},
          "execution_count": 31
        }
      ]
    },
    {
      "cell_type": "markdown",
      "source": [
        "normal distribution에 따라서 nd array를 만들어라.\n",
        "(평균값,standard deviation:표준편차,ndarray size)"
      ],
      "metadata": {
        "id": "X6K0EdAsAQ8Z"
      }
    },
    {
      "cell_type": "code",
      "source": [
        "x=np.random.normal(0,1,100)\n",
        "print(x)\n",
        "plt.hist(x, bins=10)"
      ],
      "metadata": {
        "colab": {
          "base_uri": "https://localhost:8080/",
          "height": 676
        },
        "id": "hU31WoCdBPs7",
        "outputId": "aed296f2-b3e7-4e96-9e10-9fe26e5d04f6"
      },
      "execution_count": 34,
      "outputs": [
        {
          "output_type": "stream",
          "name": "stdout",
          "text": [
            "[-1.11585464 -0.1696285   1.64457691  1.63144702 -1.82640403  2.39628458\n",
            "  0.60810792  0.95186979  0.33672982 -0.73598631  0.77619889 -0.73010471\n",
            " -0.08031573 -0.48498346  0.36359909  0.97880122 -1.35242232  0.67592922\n",
            "  0.47675911 -0.8383984  -1.78754376 -0.63121432  0.70557355  0.25821248\n",
            " -0.62809475  2.41568068 -0.73180427  0.73206463  0.45339199  1.48690967\n",
            "  0.88780646 -1.55382141 -1.34070888  0.76318532  0.6501239   0.44131452\n",
            " -0.28116331 -1.32337098  0.50599153  0.79093763 -0.93924149 -0.66414519\n",
            "  1.40271004  0.50759381  0.60743961 -0.57367408  0.86039483  0.81351139\n",
            "  0.96951251 -0.57718038  0.49887376  0.43815578 -0.91791386  0.25782737\n",
            " -1.69837903  0.66662927 -0.61538722  0.17408042  1.67545341 -0.12481982\n",
            " -0.0448813   1.08965922  0.44404399  1.62986364  0.92140852  0.47075322\n",
            " -0.61112941  1.17911767  2.14057954 -0.34530249  1.08187123 -0.14648938\n",
            " -0.28819426  1.75014577  0.66251244 -0.15009455  0.94456229 -1.49137152\n",
            "  2.35341718 -0.37828355 -0.86626838  0.75622892 -1.7293071  -0.85047722\n",
            " -0.40144664  0.58109892  0.73164487  0.66672399 -0.21338673 -2.58966212\n",
            "  1.30690486 -0.19331985 -0.45698672  1.07747275  1.11476828 -1.26459803\n",
            "  0.36925279  1.76843847 -1.02025927  0.67796954]\n"
          ]
        },
        {
          "output_type": "execute_result",
          "data": {
            "text/plain": [
              "(array([ 1.,  4.,  7., 14., 15.,  8., 28., 12.,  7.,  4.]),\n",
              " array([-2.58966212, -2.08912784, -1.58859356, -1.08805928, -0.587525  ,\n",
              "        -0.08699072,  0.41354356,  0.91407784,  1.41461212,  1.9151464 ,\n",
              "         2.41568068]),\n",
              " <a list of 10 Patch objects>)"
            ]
          },
          "metadata": {},
          "execution_count": 34
        },
        {
          "output_type": "display_data",
          "data": {
            "text/plain": [
              "<Figure size 432x288 with 1 Axes>"
            ],
            "image/png": "[encoded data removed]"
          },
          "metadata": {
            "needs_background": "light"
          }
        }
      ]
    },
    {
      "cell_type": "markdown",
      "source": [
        "*   np.random.normal(0,1,[2,3,4])는 정규분포에 따라서 평균은0, 표준편차는 1, [2,3,4]에 따라서 3d를 만들어라. \n",
        "*   np.random.normal(0,1,100)은 1d를 만드는데 긴 한 줄에 숫자 100개를 만들어라.\n",
        "\n",
        "*   bins는 통, 통10개에 맞게 표 만들라는 거.\n",
        "\n",
        "\n",
        "\n"
      ],
      "metadata": {
        "id": "AXB8AI4uBh2B"
      }
    },
    {
      "cell_type": "code",
      "source": [
        "import matplotlib.pyplot as plt"
      ],
      "metadata": {
        "id": "tNsygzXBC9LA"
      },
      "execution_count": 35,
      "outputs": []
    },
    {
      "cell_type": "code",
      "source": [
        "plt.fugure()\n",
        "\n",
        "theta1=np.linspace(0,2*np.pi,100)\n",
        "s1=np.sin(theta1)\n",
        "theta2=np.linspace(0,2*np.pi,100)+np.pi/2\n",
        "s2=np.sin(theta2)\n",
        "\n",
        "plt.subplot(2,1,1) \n",
        "plt.plot(theta1.s1.'.')\n",
        "plt.subplot(2,1,2)\n",
        "plt.plot(theta2,s2,'.')\n"
      ],
      "metadata": {
        "colab": {
          "base_uri": "https://localhost:8080/",
          "height": 139
        },
        "id": "Q55AKK3YDZE2",
        "outputId": "51fe5f70-b898-48b1-9b5b-8a9804c63935"
      },
      "execution_count": 46,
      "outputs": [
        {
          "output_type": "error",
          "ename": "SyntaxError",
          "evalue": "ignored",
          "traceback": [
            "\u001b[0;36m  File \u001b[0;32m\"<ipython-input-46-c40e0248b323>\"\u001b[0;36m, line \u001b[0;32m9\u001b[0m\n\u001b[0;31m    plt.plot(theta1.s1.'.')\u001b[0m\n\u001b[0m                         ^\u001b[0m\n\u001b[0;31mSyntaxError\u001b[0m\u001b[0;31m:\u001b[0m invalid syntax\n"
          ]
        }
      ]
    },
    {
      "cell_type": "markdown",
      "source": [
        "*   thetal=np.linspace(0,2*np.pi,100)\n",
        "*   0부터 2까지 100개의 숫자를 만들어라 등간격으로. np.pi는 3.14파이. np(numpy)안에 파이값이 들어가 있어서 꺼내쓰는거\n",
        "*   0부터 2pi(360)까지 100개 숫자 써서 s1=np.sin(thetal) sin함수 만들어라. \n",
        "\n",
        "\n",
        "*   theta1 입력, s1출력, theta2 입력, s2출력\n",
        "\n",
        "*   theta=x, s=y\n",
        "\n",
        "\n",
        "\n",
        "\n",
        "\n"
      ],
      "metadata": {
        "id": "y_E_L57PEJHS"
      }
    },
    {
      "cell_type": "markdown",
      "source": [
        "plt.subplot(2,1,1)\n",
        "\n",
        "*   그림 그려주는 거. (2,1,1) 2줄(row) 세로는 1줄(columns) 마지막 1은 두 개 그림 만드니까 그 중 1번째거에 그림을 그려라. \n",
        "\n"
      ],
      "metadata": {
        "id": "uZ9ln7DSF1WX"
      }
    }
  ]
}