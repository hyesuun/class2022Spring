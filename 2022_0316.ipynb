{
  "nbformat": 4,
  "nbformat_minor": 0,
  "metadata": {
    "colab": {
      "name": "2022.0316.ipynb",
      "provenance": [],
      "collapsed_sections": [],
      "authorship_tag": "ABX9TyNUvTBvjdUfqYEbvWlmuNiZ",
      "include_colab_link": true
    },
    "kernelspec": {
      "name": "python3",
      "display_name": "Python 3"
    },
    "language_info": {
      "name": "python"
    }
  },
  "cells": [
    {
      "cell_type": "markdown",
      "metadata": {
        "id": "view-in-github",
        "colab_type": "text"
      },
      "source": [
        "<a href=\"https://colab.research.google.com/github/hyesuun/class2022Spring/blob/main/2022_0316.ipynb\" target=\"_parent\"><img src=\"https://colab.research.google.com/assets/colab-badge.svg\" alt=\"Open In Colab\"/></a>"
      ]
    },
    {
      "cell_type": "code",
      "source": [
        "a=1"
      ],
      "metadata": {
        "id": "WC8VynuZjCHq"
      },
      "execution_count": null,
      "outputs": []
    },
    {
      "cell_type": "code",
      "source": [
        "print(a)"
      ],
      "metadata": {
        "colab": {
          "base_uri": "https://localhost:8080/"
        },
        "id": "rpQSnIqDjKHR",
        "outputId": "8de01406-f541-422b-d3ac-d3f265bf5347"
      },
      "execution_count": null,
      "outputs": [
        {
          "output_type": "stream",
          "name": "stdout",
          "text": [
            "1\n"
          ]
        }
      ]
    },
    {
      "cell_type": "markdown",
      "source": [
        "print(변수)하면 변수 안에 있는 내용이 나온다"
      ],
      "metadata": {
        "id": "okXITSYZkMRL"
      }
    },
    {
      "cell_type": "code",
      "source": [
        "print(type(a))"
      ],
      "metadata": {
        "colab": {
          "base_uri": "https://localhost:8080/"
        },
        "id": "Ldiq32ofjbpV",
        "outputId": "2ebffa56-27c7-4fa6-8cf4-59f7eb214b64"
      },
      "execution_count": null,
      "outputs": [
        {
          "output_type": "stream",
          "name": "stdout",
          "text": [
            "<class 'int'>\n"
          ]
        }
      ]
    },
    {
      "cell_type": "code",
      "source": [
        "a=1.1; print(type(a))"
      ],
      "metadata": {
        "colab": {
          "base_uri": "https://localhost:8080/"
        },
        "id": "xMGjyAxnjwGX",
        "outputId": "d65b0b8d-71ea-4682-81ee-da6a2db8e51f"
      },
      "execution_count": null,
      "outputs": [
        {
          "output_type": "stream",
          "name": "stdout",
          "text": [
            "<class 'float'>\n"
          ]
        }
      ]
    },
    {
      "cell_type": "markdown",
      "source": [
        "print(type(변수))하면 변수의 type=유형이 나온다.\n",
        "정수는 int, 실수는 float"
      ],
      "metadata": {
        "id": "b1eXUwVzjivG"
      }
    },
    {
      "cell_type": "code",
      "source": [
        "a='123'; print(type(a))"
      ],
      "metadata": {
        "colab": {
          "base_uri": "https://localhost:8080/"
        },
        "id": "A3asBnRCpHYK",
        "outputId": "2a92be64-4234-44d9-dacc-430ad8653629"
      },
      "execution_count": null,
      "outputs": [
        {
          "output_type": "stream",
          "name": "stdout",
          "text": [
            "<class 'str'>\n"
          ]
        }
      ]
    },
    {
      "cell_type": "code",
      "source": [
        "a='hello'; print(a); print(type(a))"
      ],
      "metadata": {
        "colab": {
          "base_uri": "https://localhost:8080/"
        },
        "id": "82P1QprYpeuI",
        "outputId": "835d0930-a1c2-4947-92e0-7e1c52bffabb"
      },
      "execution_count": null,
      "outputs": [
        {
          "output_type": "stream",
          "name": "stdout",
          "text": [
            "hello\n",
            "<class 'str'>\n"
          ]
        }
      ]
    },
    {
      "cell_type": "markdown",
      "source": [
        "string을 넣는 방법은 ''또는 \"\"사용하기"
      ],
      "metadata": {
        "id": "tjVdE_CipWiP"
      }
    },
    {
      "cell_type": "code",
      "source": [
        "a=[1,2,3,4]; print(type(a))"
      ],
      "metadata": {
        "colab": {
          "base_uri": "https://localhost:8080/"
        },
        "id": "cWjis6q7p-lD",
        "outputId": "efce7ac9-18c3-47bd-a17e-0d9c18648dd4"
      },
      "execution_count": null,
      "outputs": [
        {
          "output_type": "stream",
          "name": "stdout",
          "text": [
            "<class 'list'>\n"
          ]
        }
      ]
    },
    {
      "cell_type": "code",
      "source": [
        "b=[1,'a',[3,'4']]; print(type(a))"
      ],
      "metadata": {
        "colab": {
          "base_uri": "https://localhost:8080/"
        },
        "id": "EITPUf4CqcHJ",
        "outputId": "981a6b76-250c-4311-aac3-f3ea5e120d99"
      },
      "execution_count": null,
      "outputs": [
        {
          "output_type": "stream",
          "name": "stdout",
          "text": [
            "<class 'list'>\n"
          ]
        }
      ]
    },
    {
      "cell_type": "markdown",
      "source": [
        "list는 [  ]를 사용해서 나타낸다. 리스트 안에는 number, string, list가 다 들어갈 수 있다. "
      ],
      "metadata": {
        "id": "hWGypwHIquI7"
      }
    },
    {
      "cell_type": "code",
      "source": [
        "print(a[0])\n",
        "a[2]"
      ],
      "metadata": {
        "colab": {
          "base_uri": "https://localhost:8080/"
        },
        "id": "9ZCJL0_jrXtw",
        "outputId": "81c6f6eb-621b-43ee-936c-6bc28a71863d"
      },
      "execution_count": null,
      "outputs": [
        {
          "output_type": "stream",
          "name": "stdout",
          "text": [
            "1\n"
          ]
        },
        {
          "output_type": "execute_result",
          "data": {
            "text/plain": [
              "3"
            ]
          },
          "metadata": {},
          "execution_count": 24
        }
      ]
    },
    {
      "cell_type": "markdown",
      "source": [
        "4아이템 중에 몇 개만 꺼내 쓰는 거를 indexing이라고 한다. \n",
        "꺼내쓸 때는 print(변수[순서])로 치면 된다. 마지막 줄에 오는 index의 경우에는 print를 치지 않고 변수[순서]라고만 쳐도 된다. 순서는 0부터 시작한다. a[:]는 전부다 라는 뜻"
      ],
      "metadata": {
        "id": "zRyTRFJrrZxn"
      }
    },
    {
      "cell_type": "code",
      "source": [
        "print(a[1:2]); a[0:3]"
      ],
      "metadata": {
        "colab": {
          "base_uri": "https://localhost:8080/"
        },
        "id": "QEK0Q6xUspLn",
        "outputId": "2ae90b1a-e6ed-4f37-fb19-311dcff4e3e2"
      },
      "execution_count": null,
      "outputs": [
        {
          "output_type": "stream",
          "name": "stdout",
          "text": [
            "[2]\n"
          ]
        },
        {
          "output_type": "execute_result",
          "data": {
            "text/plain": [
              "[1, 2, 3]"
            ]
          },
          "metadata": {},
          "execution_count": 26
        }
      ]
    },
    {
      "cell_type": "markdown",
      "source": [
        "a[1:2]라고 하면 1번째부터 2번째 전까지 꺼내라는 뜻. 즉, 2만 나온다.\n",
        "a[0:3]라고 하면 0번째부터 3번째 전까지라는 뜻. 즉, 1,2만 나온다. "
      ],
      "metadata": {
        "id": "YJJQrU64sziG"
      }
    },
    {
      "cell_type": "code",
      "source": [
        "a=[1,2,3,4,5,6,7,8,9,10]"
      ],
      "metadata": {
        "id": "QmusRi7ytlyr"
      },
      "execution_count": null,
      "outputs": []
    },
    {
      "cell_type": "code",
      "source": [
        "print(a[2:]);print(a[1:-1])"
      ],
      "metadata": {
        "colab": {
          "base_uri": "https://localhost:8080/"
        },
        "id": "ReILmzRutxr1",
        "outputId": "67941890-b752-42c5-a7b8-682ed15c1cff"
      },
      "execution_count": null,
      "outputs": [
        {
          "output_type": "stream",
          "name": "stdout",
          "text": [
            "[3, 4, 5, 6, 7, 8, 9, 10]\n",
            "[2, 3, 4, 5, 6, 7, 8, 9]\n"
          ]
        }
      ]
    },
    {
      "cell_type": "markdown",
      "source": [
        "a[1:-1]은 1번째부터 끝에서 -1까지 꺼내라는 뜻"
      ],
      "metadata": {
        "id": "ZyVPE_WIuK4O"
      }
    },
    {
      "cell_type": "code",
      "source": [
        "b=[1,'a',[3,'4']]"
      ],
      "metadata": {
        "id": "EhEHd_iHunOb"
      },
      "execution_count": null,
      "outputs": []
    },
    {
      "cell_type": "code",
      "source": [
        "print(b[2][0])\n",
        "b[2][1]"
      ],
      "metadata": {
        "colab": {
          "base_uri": "https://localhost:8080/",
          "height": 55
        },
        "id": "Bucs44e8u4CA",
        "outputId": "5e902659-3c10-4e00-be46-263a77c97afc"
      },
      "execution_count": null,
      "outputs": [
        {
          "output_type": "stream",
          "name": "stdout",
          "text": [
            "3\n"
          ]
        },
        {
          "output_type": "execute_result",
          "data": {
            "text/plain": [
              "'4'"
            ],
            "application/vnd.google.colaboratory.intrinsic+json": {
              "type": "string"
            }
          },
          "metadata": {},
          "execution_count": 31
        }
      ]
    },
    {
      "cell_type": "markdown",
      "source": [
        "b안에 들어있는 리스트에서 특정 수만 꺼내고 싶으면 b[2][1]이런 방식으로 치기"
      ],
      "metadata": {
        "id": "lxczzumkvB0j"
      }
    },
    {
      "cell_type": "code",
      "source": [
        "a='abcdef123'"
      ],
      "metadata": {
        "id": "7uiBRlyAvK5q"
      },
      "execution_count": null,
      "outputs": []
    },
    {
      "cell_type": "code",
      "source": [
        "print(a[:3])\n",
        "a[3:-1]"
      ],
      "metadata": {
        "colab": {
          "base_uri": "https://localhost:8080/",
          "height": 55
        },
        "id": "J5DpbFiXv6tO",
        "outputId": "9514c38a-ee39-4be1-9f2d-34ca47c3e4ca"
      },
      "execution_count": null,
      "outputs": [
        {
          "output_type": "stream",
          "name": "stdout",
          "text": [
            "abc\n"
          ]
        },
        {
          "output_type": "execute_result",
          "data": {
            "text/plain": [
              "'def12'"
            ],
            "application/vnd.google.colaboratory.intrinsic+json": {
              "type": "string"
            }
          },
          "metadata": {},
          "execution_count": 33
        }
      ]
    },
    {
      "cell_type": "markdown",
      "source": [
        "string에서도 list와 마찬가지로 특정 변수만 꺼내올 수 있다. a[  ] 이런 방식으로"
      ],
      "metadata": {
        "id": "EyZkN0kRvu2I"
      }
    },
    {
      "cell_type": "code",
      "source": [
        "a=[1,2,3]"
      ],
      "metadata": {
        "id": "8N0nGZGwwZrd"
      },
      "execution_count": null,
      "outputs": []
    },
    {
      "cell_type": "code",
      "source": [
        "a[1]=0"
      ],
      "metadata": {
        "id": "ozMOvHEzxDzG"
      },
      "execution_count": null,
      "outputs": []
    },
    {
      "cell_type": "code",
      "source": [
        "print(a)"
      ],
      "metadata": {
        "colab": {
          "base_uri": "https://localhost:8080/"
        },
        "id": "dIKwThePxJS0",
        "outputId": "043749ad-3d00-4938-a470-9eb5340e901e"
      },
      "execution_count": null,
      "outputs": [
        {
          "output_type": "stream",
          "name": "stdout",
          "text": [
            "[1, 0, 3]\n"
          ]
        }
      ]
    },
    {
      "cell_type": "markdown",
      "source": [
        "변수에는 숫자, string, list(tuple), dict가 있다. \n",
        "list는 a[1,2,3]\n",
        "tuple은 a(1,2,3) tuple은 list와 다르게 안에 들어있는 항목을 바꾸지 못한다. "
      ],
      "metadata": {
        "id": "939y407fwjy9"
      }
    },
    {
      "cell_type": "code",
      "source": [
        "a={'a':'apple','b':'orange',c:2014}"
      ],
      "metadata": {
        "id": "gWKdxSNkxy-g"
      },
      "execution_count": null,
      "outputs": []
    },
    {
      "cell_type": "code",
      "source": [
        "type(a)"
      ],
      "metadata": {
        "colab": {
          "base_uri": "https://localhost:8080/"
        },
        "id": "Fi2eq81tyN1-",
        "outputId": "a7b66903-f366-4c0f-a01c-10f5520becda"
      },
      "execution_count": null,
      "outputs": [
        {
          "output_type": "execute_result",
          "data": {
            "text/plain": [
              "dict"
            ]
          },
          "metadata": {},
          "execution_count": 40
        }
      ]
    },
    {
      "cell_type": "code",
      "source": [
        "print(a['a'])\n",
        "a[c]"
      ],
      "metadata": {
        "colab": {
          "base_uri": "https://localhost:8080/"
        },
        "id": "KywrJl8qyjMg",
        "outputId": "be7dbc52-8dee-4c55-bfb7-d9f1de4a8090"
      },
      "execution_count": null,
      "outputs": [
        {
          "output_type": "stream",
          "name": "stdout",
          "text": [
            "apple\n"
          ]
        },
        {
          "output_type": "execute_result",
          "data": {
            "text/plain": [
              "2014"
            ]
          },
          "metadata": {},
          "execution_count": 46
        }
      ]
    },
    {
      "cell_type": "markdown",
      "source": [
        "\"a\"가 key, \"apple\"이 value. dict는 앞에 있는 key, 제목값에 접근할 수 있게 한다. 그래서 a['a']라고 치면 apple이 나온다. \n",
        "\n",
        "---\n",
        "여기까지 변수\n"
      ],
      "metadata": {
        "id": "eGq1sIM-ydwM"
      }
    },
    {
      "cell_type": "code",
      "source": [
        "s='abcdef'\n",
        "print(s[0],s[5],s[-1],s[-6])\n",
        "print(s[1:3],s[1:],s[:3],s[:])"
      ],
      "metadata": {
        "id": "Alh155CC0yOE",
        "colab": {
          "base_uri": "https://localhost:8080/"
        },
        "outputId": "7fb652e9-7586-4f57-b211-30bbfc99dbb0"
      },
      "execution_count": 1,
      "outputs": [
        {
          "output_type": "stream",
          "name": "stdout",
          "text": [
            "a f f a\n",
            "bc bcdef abc abcdef\n"
          ]
        }
      ]
    },
    {
      "cell_type": "code",
      "source": [
        "n=[100,200,300]\n",
        "print(n[0],n[2],n[-1],n[-3])\n",
        "print(n[1:2],n[1:],n[:2],n[:])"
      ],
      "metadata": {
        "colab": {
          "base_uri": "https://localhost:8080/"
        },
        "id": "s9xYLJhtpw7D",
        "outputId": "d75654e5-58ac-4dd6-8a8f-f443920112ab"
      },
      "execution_count": 4,
      "outputs": [
        {
          "output_type": "stream",
          "name": "stdout",
          "text": [
            "100 300 300 100\n",
            "[200] [200, 300] [100, 200] [100, 200, 300]\n"
          ]
        }
      ]
    },
    {
      "cell_type": "markdown",
      "source": [
        "string, list에서 index하는 방법 동일"
      ],
      "metadata": {
        "id": "orKYwo51qpV4"
      }
    },
    {
      "cell_type": "code",
      "source": [
        "len(s)"
      ],
      "metadata": {
        "colab": {
          "base_uri": "https://localhost:8080/"
        },
        "id": "Zt6TJMxlqs81",
        "outputId": "bdc1a0fd-51ca-4c87-d9d2-cb57942a5c6c"
      },
      "execution_count": 5,
      "outputs": [
        {
          "output_type": "execute_result",
          "data": {
            "text/plain": [
              "6"
            ]
          },
          "metadata": {},
          "execution_count": 5
        }
      ]
    },
    {
      "cell_type": "markdown",
      "source": [
        "len(s)는 s의 길이를 말한다. "
      ],
      "metadata": {
        "id": "WDzMCKFCq173"
      }
    },
    {
      "cell_type": "code",
      "source": [
        "s[1]+s[3]+s[4:]*10"
      ],
      "metadata": {
        "colab": {
          "base_uri": "https://localhost:8080/",
          "height": 36
        },
        "id": "xLfo-egcq_0j",
        "outputId": "dd378acb-03a6-4ef0-a06a-6fb57659be51"
      },
      "execution_count": 6,
      "outputs": [
        {
          "output_type": "execute_result",
          "data": {
            "text/plain": [
              "'bdefefefefefefefefefef'"
            ],
            "application/vnd.google.colaboratory.intrinsic+json": {
              "type": "string"
            }
          },
          "metadata": {},
          "execution_count": 6
        }
      ]
    },
    {
      "cell_type": "code",
      "source": [
        "s.upper()"
      ],
      "metadata": {
        "colab": {
          "base_uri": "https://localhost:8080/",
          "height": 36
        },
        "id": "DDgA1kEfrT_z",
        "outputId": "8bcc8e11-c63d-495a-e0e2-46da08b1f991"
      },
      "execution_count": 7,
      "outputs": [
        {
          "output_type": "execute_result",
          "data": {
            "text/plain": [
              "'ABCDEF'"
            ],
            "application/vnd.google.colaboratory.intrinsic+json": {
              "type": "string"
            }
          },
          "metadata": {},
          "execution_count": 7
        }
      ]
    },
    {
      "cell_type": "code",
      "source": [
        "c='apple'\n",
        "c.upper()"
      ],
      "metadata": {
        "colab": {
          "base_uri": "https://localhost:8080/",
          "height": 36
        },
        "id": "TrfTA0kwsUCM",
        "outputId": "ff1eae8a-3b2e-418c-9faa-1beff50cee03"
      },
      "execution_count": 10,
      "outputs": [
        {
          "output_type": "execute_result",
          "data": {
            "text/plain": [
              "'APPLE'"
            ],
            "application/vnd.google.colaboratory.intrinsic+json": {
              "type": "string"
            }
          },
          "metadata": {},
          "execution_count": 10
        }
      ]
    },
    {
      "cell_type": "markdown",
      "source": [
        "s.upper()  s를 대문자로 만들어라"
      ],
      "metadata": {
        "id": "krL00DEArfo3"
      }
    },
    {
      "cell_type": "code",
      "source": [
        "s=' this is a house built this year.'\n",
        "s"
      ],
      "metadata": {
        "colab": {
          "base_uri": "https://localhost:8080/",
          "height": 36
        },
        "id": "i9tdqG17ssDH",
        "outputId": "3d56a815-78a6-4e85-ff8c-ffca4696860f"
      },
      "execution_count": 27,
      "outputs": [
        {
          "output_type": "execute_result",
          "data": {
            "text/plain": [
              "' this is a house built this year.'"
            ],
            "application/vnd.google.colaboratory.intrinsic+json": {
              "type": "string"
            }
          },
          "metadata": {},
          "execution_count": 27
        }
      ]
    },
    {
      "cell_type": "code",
      "source": [
        "result=s.find('house')\n",
        "result"
      ],
      "metadata": {
        "colab": {
          "base_uri": "https://localhost:8080/"
        },
        "id": "EBFqgDeqtGFV",
        "outputId": "ca1ca385-0c8a-475b-98ea-94b9693a2b55"
      },
      "execution_count": 15,
      "outputs": [
        {
          "output_type": "execute_result",
          "data": {
            "text/plain": [
              "11"
            ]
          },
          "metadata": {},
          "execution_count": 15
        }
      ]
    },
    {
      "cell_type": "markdown",
      "source": [
        "s에서 house를 찾고 그 값을 result에 넣어라.\n",
        "이 때 10은 house가 10번째에 시작한다는 뜻"
      ],
      "metadata": {
        "id": "_3r4e4-LtREI"
      }
    },
    {
      "cell_type": "code",
      "source": [
        "s=s.strip()\n",
        "s"
      ],
      "metadata": {
        "colab": {
          "base_uri": "https://localhost:8080/",
          "height": 36
        },
        "id": "mN6TzbO8t6X_",
        "outputId": "bc139118-ac93-4f9d-e667-a19b4380bda2"
      },
      "execution_count": 28,
      "outputs": [
        {
          "output_type": "execute_result",
          "data": {
            "text/plain": [
              "'this is a house built this year.'"
            ],
            "application/vnd.google.colaboratory.intrinsic+json": {
              "type": "string"
            }
          },
          "metadata": {},
          "execution_count": 28
        }
      ]
    },
    {
      "cell_type": "markdown",
      "source": [
        "s.strip()-s의 처음이나 끝에 있는 whitespace가 있으면 지워라.\n",
        "그리고 그거를 다시 s에 담아라"
      ],
      "metadata": {
        "id": "fKS2sEqZuAl3"
      }
    },
    {
      "cell_type": "code",
      "source": [
        "tokens=s.split(' ')\n",
        "tokens"
      ],
      "metadata": {
        "colab": {
          "base_uri": "https://localhost:8080/"
        },
        "id": "N2hAq6rquyVS",
        "outputId": "35fa2954-0900-4421-f4c2-00e4a4d6430a"
      },
      "execution_count": 29,
      "outputs": [
        {
          "output_type": "execute_result",
          "data": {
            "text/plain": [
              "['this', 'is', 'a', 'house', 'built', 'this', 'year.']"
            ]
          },
          "metadata": {},
          "execution_count": 29
        }
      ]
    },
    {
      "cell_type": "markdown",
      "source": [
        "s.split(' ')-빈칸을 중심으로 쪼개서 리스트를 만들어라. 그리고 그거를 tokens에 넣어라. 빈칸은 리스트에 포함되지 않는다. \n",
        "\n",
        "\n"
      ],
      "metadata": {
        "id": "HIzr-lNQvGzR"
      }
    },
    {
      "cell_type": "code",
      "source": [
        "s=s.split('e')\n",
        "s"
      ],
      "metadata": {
        "colab": {
          "base_uri": "https://localhost:8080/"
        },
        "id": "kzTqkPDzvbJ3",
        "outputId": "81a96ae2-a68b-4ded-8599-cc4fb004bfef"
      },
      "execution_count": 24,
      "outputs": [
        {
          "output_type": "execute_result",
          "data": {
            "text/plain": [
              "['this is a hous', ' built this y', 'ar.']"
            ]
          },
          "metadata": {},
          "execution_count": 24
        }
      ]
    },
    {
      "cell_type": "markdown",
      "source": [
        "여기서도 마찬가지로 e는 리스트에 포함되지 않는다. "
      ],
      "metadata": {
        "id": "01iKkqrnwNMZ"
      }
    },
    {
      "cell_type": "code",
      "source": [
        "s=' '.join(tokens)\n",
        "s"
      ],
      "metadata": {
        "colab": {
          "base_uri": "https://localhost:8080/",
          "height": 36
        },
        "id": "N4rIQFVNwF_J",
        "outputId": "7cb4218b-df15-4ae1-9387-9a00786b8c52"
      },
      "execution_count": 31,
      "outputs": [
        {
          "output_type": "execute_result",
          "data": {
            "text/plain": [
              "'this is a house built this year.'"
            ],
            "application/vnd.google.colaboratory.intrinsic+json": {
              "type": "string"
            }
          },
          "metadata": {},
          "execution_count": 31
        }
      ]
    },
    {
      "cell_type": "markdown",
      "source": [
        "다시 원래 문장으로 돌이키고 싶다면 ' '.join(tokens)-빈칸을 다시 붙여라."
      ],
      "metadata": {
        "id": "wSy8a8ETw4dR"
      }
    },
    {
      "cell_type": "code",
      "source": [
        "s=s.replace('this','that')\n",
        "s"
      ],
      "metadata": {
        "colab": {
          "base_uri": "https://localhost:8080/",
          "height": 36
        },
        "id": "hefM2hxSxFQE",
        "outputId": "ec4714d8-9a32-48c3-8b5f-760fd8226384"
      },
      "execution_count": 32,
      "outputs": [
        {
          "output_type": "execute_result",
          "data": {
            "text/plain": [
              "'that is a house built that year.'"
            ],
            "application/vnd.google.colaboratory.intrinsic+json": {
              "type": "string"
            }
          },
          "metadata": {},
          "execution_count": 32
        }
      ]
    },
    {
      "cell_type": "code",
      "source": [
        "s=s.replace('is','are')\n",
        "s"
      ],
      "metadata": {
        "colab": {
          "base_uri": "https://localhost:8080/",
          "height": 36
        },
        "id": "UmhZNH2jxNv4",
        "outputId": "b3dd05be-2c18-4348-bfeb-7e349f027ce9"
      },
      "execution_count": 33,
      "outputs": [
        {
          "output_type": "execute_result",
          "data": {
            "text/plain": [
              "'that are a house built that year.'"
            ],
            "application/vnd.google.colaboratory.intrinsic+json": {
              "type": "string"
            }
          },
          "metadata": {},
          "execution_count": 33
        }
      ]
    },
    {
      "cell_type": "markdown",
      "source": [
        "s.replace('단어','단어')-s안에 있는 단어를 다른 단어로 바꾸고 싶을 때\n",
        "\n",
        "\n",
        "---\n",
        "여기부터 function\n",
        "\n"
      ],
      "metadata": {
        "id": "shSEh4KwxUJ9"
      }
    },
    {
      "cell_type": "code",
      "source": [
        "def add(a,b):\n",
        "  return a+b"
      ],
      "metadata": {
        "id": "FlzlJ9FUx1w-"
      },
      "execution_count": 34,
      "outputs": []
    },
    {
      "cell_type": "code",
      "source": [
        "c=add(1,2)\n",
        "c"
      ],
      "metadata": {
        "colab": {
          "base_uri": "https://localhost:8080/"
        },
        "id": "WiVmtMFuzaQM",
        "outputId": "015501bf-75bc-4f21-f06f-91c81709ccaf"
      },
      "execution_count": 35,
      "outputs": [
        {
          "output_type": "execute_result",
          "data": {
            "text/plain": [
              "3"
            ]
          },
          "metadata": {},
          "execution_count": 35
        }
      ]
    },
    {
      "cell_type": "markdown",
      "source": [
        "def: define, 함수를 정의한다.  \n",
        "\n",
        "*   def 함수명(입력변수1,입력변수2):\n",
        "*   return 출력변수명\n",
        "\n",
        "\n",
        "\n"
      ],
      "metadata": {
        "id": "63LKp47byK4T"
      }
    },
    {
      "cell_type": "code",
      "source": [
        "def subtract(a,b):\n",
        "  c=a-b\n",
        "  return c"
      ],
      "metadata": {
        "id": "3jYZpkId0AGt"
      },
      "execution_count": 40,
      "outputs": []
    },
    {
      "cell_type": "code",
      "source": [
        "subtract(5,3)"
      ],
      "metadata": {
        "colab": {
          "base_uri": "https://localhost:8080/"
        },
        "id": "HKLE8tJq0eqe",
        "outputId": "4b5f6e23-a211-4aa2-9d84-7836e301db96"
      },
      "execution_count": 41,
      "outputs": [
        {
          "output_type": "execute_result",
          "data": {
            "text/plain": [
              "2"
            ]
          },
          "metadata": {},
          "execution_count": 41
        }
      ]
    },
    {
      "cell_type": "markdown",
      "source": [
        "---\n",
        "여기부터 syntax\n",
        "\n",
        "\n",
        "*   반복문 for\n",
        "*   조건문 if\n",
        "\n",
        "\n",
        "\n",
        "\n",
        "\n"
      ],
      "metadata": {
        "id": "NyEumkbv1XFw"
      }
    },
    {
      "cell_type": "code",
      "source": [
        "a=[1,2,3,4]\n",
        "for i in a:\n",
        "  print(i)"
      ],
      "metadata": {
        "colab": {
          "base_uri": "https://localhost:8080/"
        },
        "id": "j2AGYlX61Ztx",
        "outputId": "7681bc13-fba3-4912-8504-cf3fb2e9ef39"
      },
      "execution_count": 42,
      "outputs": [
        {
          "output_type": "stream",
          "name": "stdout",
          "text": [
            "1\n",
            "2\n",
            "3\n",
            "4\n"
          ]
        }
      ]
    },
    {
      "cell_type": "code",
      "source": [
        "b=['i','am','hungry']\n",
        "for s in b:\n",
        "  print(s)"
      ],
      "metadata": {
        "colab": {
          "base_uri": "https://localhost:8080/"
        },
        "id": "RxgP8m2D3LaX",
        "outputId": "59e8c9b5-4643-4dd2-97c3-75b229143386"
      },
      "execution_count": 46,
      "outputs": [
        {
          "output_type": "stream",
          "name": "stdout",
          "text": [
            "i\n",
            "am\n",
            "hungry\n"
          ]
        }
      ]
    },
    {
      "cell_type": "markdown",
      "source": [
        "for i in a:\n",
        "\n",
        "\n",
        "> print(i)\n",
        "\n",
        "> a에서 하나하나씩 받아서 i에 넣고 시스템을 돌린다. 즉, a에서 하나씩 꺼낸 다음에 print(i)를 실행한다. \n",
        "\n",
        "\n",
        "\n",
        "\n"
      ],
      "metadata": {
        "id": "WJHeYECS2a5o"
      }
    },
    {
      "cell_type": "code",
      "source": [
        "a=[1,2,3,4]\n",
        "for i in range(len(a)):\n",
        "  print(a[i])"
      ],
      "metadata": {
        "colab": {
          "base_uri": "https://localhost:8080/"
        },
        "id": "-dg3vYz53Ao1",
        "outputId": "3e23f290-6246-408f-e176-7cf472b6235a"
      },
      "execution_count": 47,
      "outputs": [
        {
          "output_type": "stream",
          "name": "stdout",
          "text": [
            "1\n",
            "2\n",
            "3\n",
            "4\n"
          ]
        }
      ]
    },
    {
      "cell_type": "code",
      "source": [
        "a=[1,2,3,4]\n",
        "for i in range(4):\n",
        "  print(a[i])"
      ],
      "metadata": {
        "colab": {
          "base_uri": "https://localhost:8080/"
        },
        "id": "WK2-z8sR33fJ",
        "outputId": "614306f5-bc7a-419a-bd78-812abffb557b"
      },
      "execution_count": 48,
      "outputs": [
        {
          "output_type": "stream",
          "name": "stdout",
          "text": [
            "1\n",
            "2\n",
            "3\n",
            "4\n"
          ]
        }
      ]
    },
    {
      "cell_type": "markdown",
      "source": [
        "range(4)라고 하면 [0,1,2,3]의 list가 만들어진다.\n",
        "\n",
        "> for i in range(4)라고 하면 일단 0이 i에 들어간다\n",
        "\n",
        "> print(a[i])의 i자리에 그러면 0이 들어간다. print(a[0])\n",
        "\n",
        "> 그래서 결론적으로 1이 나온다. 이거를 계속 반복하는 것\n",
        "\n",
        "\n",
        "\n",
        "\n",
        "\n"
      ],
      "metadata": {
        "id": "ZLKIzn2X4Rel"
      }
    },
    {
      "cell_type": "code",
      "source": [
        "a=['red','green','blue','purple']\n",
        "for c in a:\n",
        "  print(c)"
      ],
      "metadata": {
        "colab": {
          "base_uri": "https://localhost:8080/"
        },
        "id": "0YX2kr564xOW",
        "outputId": "57243a22-466d-4ed4-f669-a7029f55abd3"
      },
      "execution_count": 49,
      "outputs": [
        {
          "output_type": "stream",
          "name": "stdout",
          "text": [
            "red\n",
            "green\n",
            "blue\n",
            "purple\n"
          ]
        }
      ]
    },
    {
      "cell_type": "code",
      "source": [
        "a=0\n",
        "if a==0:\n",
        "  print(a)"
      ],
      "metadata": {
        "colab": {
          "base_uri": "https://localhost:8080/"
        },
        "id": "HP9i9qHl5kyh",
        "outputId": "16dd3660-b6ae-4cf0-d53f-4c0d54c48192"
      },
      "execution_count": 50,
      "outputs": [
        {
          "output_type": "stream",
          "name": "stdout",
          "text": [
            "0\n"
          ]
        }
      ]
    },
    {
      "cell_type": "markdown",
      "source": [
        "==:같다는 표시\n",
        "\n",
        "*   a=0에서 =는 그냥 a 안에 0이라는 값을 assign, 할당하는 것. 같다는 표시는 ==\n",
        "*   아니라는 표시는 !=\n",
        "\n",
        "\n",
        "\n",
        "\n",
        "\n"
      ],
      "metadata": {
        "id": "xUywI4lP5tSe"
      }
    },
    {
      "cell_type": "code",
      "source": [
        "a=0\n",
        "if a!=0:\n",
        "  print(a)\n",
        "else:\n",
        "  print(a+1)"
      ],
      "metadata": {
        "colab": {
          "base_uri": "https://localhost:8080/"
        },
        "id": "ybirVinC6GgB",
        "outputId": "37f2286d-9cd3-4496-e12b-02c2f4a16ac2"
      },
      "execution_count": 51,
      "outputs": [
        {
          "output_type": "stream",
          "name": "stdout",
          "text": [
            "1\n"
          ]
        }
      ]
    },
    {
      "cell_type": "markdown",
      "source": [
        "만약 a가 0이 아니라면 print(a)하고, 나머지 경우라면 즉, a가 0이라면 print(a+1)을 해라."
      ],
      "metadata": {
        "id": "aMLqxntA6Ued"
      }
    },
    {
      "cell_type": "code",
      "source": [
        "for i in range(1,3):\n",
        "  for j in range(3,5):\n",
        "    print(i*j)"
      ],
      "metadata": {
        "colab": {
          "base_uri": "https://localhost:8080/"
        },
        "id": "Xb-bScZw6dQu",
        "outputId": "5276442d-6dcd-4f96-9923-def6fafd0f26"
      },
      "execution_count": 52,
      "outputs": [
        {
          "output_type": "stream",
          "name": "stdout",
          "text": [
            "3\n",
            "4\n",
            "6\n",
            "8\n"
          ]
        }
      ]
    },
    {
      "cell_type": "markdown",
      "source": [
        "\n",
        "\n",
        "1.   range(4)는 [0,1,2,3]이라고 했지?\n",
        "\n",
        "> range(1,3)은 [1,2]\n",
        "\n",
        "> range(3,5)는 [3,4]\n",
        "\n",
        "2.   먼저 i에 1이 들어가. 그 상태에서 j에 3이 들어가. \n",
        "3.   그러면 print(i*j)하면 1x3=3이 나오겠지?\n",
        "4.   이제 j에 4가 들어갈 차례지? 그럼 다음 차례에는 1x4=4가 나오겠지?\n",
        "5.   마찬가지 방식으로 쭈욱 하다보면 3,4,5,8이 나오는거야.\n",
        "6.   가지치기 방식으로, 위에 하나 해결하고 밑에 다 해결, 다시 나머지 위에 하나 하고 밑에 다 해결"
      ],
      "metadata": {
        "id": "RiyPmBPO6sZT"
      }
    },
    {
      "cell_type": "code",
      "source": [
        "for i in range(1,3):\n",
        "  for j in range(3,5):\n",
        "    if j>=4:\n",
        "      print(i*j)"
      ],
      "metadata": {
        "colab": {
          "base_uri": "https://localhost:8080/"
        },
        "id": "yJFiBVRW83ci",
        "outputId": "3c590447-edfd-4ddb-f9fa-085bad2aa826"
      },
      "execution_count": 53,
      "outputs": [
        {
          "output_type": "stream",
          "name": "stdout",
          "text": [
            "4\n",
            "8\n"
          ]
        }
      ]
    },
    {
      "cell_type": "code",
      "source": [
        "a=[1,2,3,4]\n",
        "b=[i for i in a if i>=2]\n",
        "b"
      ],
      "metadata": {
        "colab": {
          "base_uri": "https://localhost:8080/"
        },
        "id": "DkE4dNaJ9ush",
        "outputId": "f66911f1-f2bc-401e-b2fd-3be9e51fe513"
      },
      "execution_count": 54,
      "outputs": [
        {
          "output_type": "execute_result",
          "data": {
            "text/plain": [
              "[2, 3, 4]"
            ]
          },
          "metadata": {},
          "execution_count": 54
        }
      ]
    },
    {
      "cell_type": "markdown",
      "source": [
        "\n",
        "\n",
        "1.   a에서 하나씩 꺼내서 i에 넣어. 먼저 1. 근데 1은 2보다 같거나 작지 않지. 그러니까 불통\n",
        "2.   2를 i에 넣어 근데 2는 if조건 만족시키지. 그러면 통과해서 i에 들어가\n",
        "3.  3,4도 마찬가지로 통과해서 i에 들어가.\n"
      ],
      "metadata": {
        "id": "B0XMp26S-T1G"
      }
    },
    {
      "cell_type": "code",
      "source": [
        "a=['red','green','blue','purple']\n",
        "b=[i for i in a if len(i)>=4]\n",
        "b"
      ],
      "metadata": {
        "colab": {
          "base_uri": "https://localhost:8080/"
        },
        "id": "BGz41NjO-2fm",
        "outputId": "2afe1ce8-9d6a-47e6-f348-f8b0c05316d5"
      },
      "execution_count": 56,
      "outputs": [
        {
          "output_type": "execute_result",
          "data": {
            "text/plain": [
              "['green', 'blue', 'purple']"
            ]
          },
          "metadata": {},
          "execution_count": 56
        }
      ]
    },
    {
      "cell_type": "code",
      "source": [
        "a=['red','green','blue','purple']\n",
        "b=[1,2,3,4]\n",
        "c={a[i]:b[i] for i in range(4)}\n",
        "c"
      ],
      "metadata": {
        "colab": {
          "base_uri": "https://localhost:8080/"
        },
        "id": "6LnXcy1y-2eW",
        "outputId": "3016d704-080f-4e4b-a862-486804b45db9"
      },
      "execution_count": 58,
      "outputs": [
        {
          "output_type": "execute_result",
          "data": {
            "text/plain": [
              "{'blue': 3, 'green': 2, 'purple': 4, 'red': 1}"
            ]
          },
          "metadata": {},
          "execution_count": 58
        }
      ]
    },
    {
      "cell_type": "code",
      "source": [
        "print(c['blue'])"
      ],
      "metadata": {
        "colab": {
          "base_uri": "https://localhost:8080/"
        },
        "id": "-N6AZAgZB8yd",
        "outputId": "7747cd08-9d4c-4d4c-9397-b36afb7ada7b"
      },
      "execution_count": 59,
      "outputs": [
        {
          "output_type": "stream",
          "name": "stdout",
          "text": [
            "3\n"
          ]
        }
      ]
    },
    {
      "cell_type": "markdown",
      "source": [
        "range(4)하면 [0,1,2,3]생긴다고 했었지\n",
        "\n",
        "\n",
        "*   먼저 0이 i에 들어가. 그러면 a[0]:b[0]이지?\n",
        "*   계속 반복해\n",
        "*   a[0]:b[0],a[1]:b[1],a[2]:b[2],a[3],b[3]\n",
        "*   c={'red':1,'green':2,'blue':3,'purple':4}\n",
        "\n",
        "---\n",
        "여기부터 import, numpy, matplotlib\n",
        "\n",
        "\n",
        "\n",
        "\n"
      ],
      "metadata": {
        "id": "tRo1S6hZAhU9"
      }
    },
    {
      "cell_type": "code",
      "source": [
        "import numpy"
      ],
      "metadata": {
        "id": "gyRaESLlCq2h"
      },
      "execution_count": 63,
      "outputs": []
    },
    {
      "cell_type": "code",
      "source": [
        "numpy.random.randn(5)"
      ],
      "metadata": {
        "colab": {
          "base_uri": "https://localhost:8080/"
        },
        "id": "Al5urt5kD8lM",
        "outputId": "5fda692a-af34-4457-bff3-36dfed8e6c2d"
      },
      "execution_count": 64,
      "outputs": [
        {
          "output_type": "execute_result",
          "data": {
            "text/plain": [
              "array([-0.37757482,  0.01400211,  0.7959524 ,  0.72092021, -1.95960852])"
            ]
          },
          "metadata": {},
          "execution_count": 64
        }
      ]
    },
    {
      "cell_type": "markdown",
      "source": [
        "numpy 안에 random.randn를 끌어 옴. numpy.random.randm(5)라고 하면 랜덤넘버 5개가 나옴. 이 숫자들은 정규분포를 따라서 나옴. 평균 0 "
      ],
      "metadata": {
        "id": "_2lcR-8wEAbA"
      }
    },
    {
      "cell_type": "code",
      "source": [
        "import numpy as np"
      ],
      "metadata": {
        "id": "WKCWnus1Ekya"
      },
      "execution_count": 65,
      "outputs": []
    },
    {
      "cell_type": "markdown",
      "source": [
        "numpy를 np로 줄여서 쓸 수도 있음. 너무 길어서 쓰기 귀찮을 때"
      ],
      "metadata": {
        "id": "xVqnKD1-EoOM"
      }
    },
    {
      "cell_type": "code",
      "source": [
        "n=np.random.randn(100)"
      ],
      "metadata": {
        "id": "VQz603aiEsV7"
      },
      "execution_count": 72,
      "outputs": []
    },
    {
      "cell_type": "code",
      "source": [
        "import matplotlib"
      ],
      "metadata": {
        "id": "_UkwdzjuE8xl"
      },
      "execution_count": 67,
      "outputs": []
    },
    {
      "cell_type": "code",
      "source": [
        "matplotlib.pyplot.hist(n)"
      ],
      "metadata": {
        "colab": {
          "base_uri": "https://localhost:8080/",
          "height": 359
        },
        "id": "PQBFudKOFAgy",
        "outputId": "d76f6ddf-bc6c-4ba2-9e4e-b7d495fdb937"
      },
      "execution_count": 74,
      "outputs": [
        {
          "output_type": "execute_result",
          "data": {
            "text/plain": [
              "(array([ 5.,  3., 12., 15., 22., 20., 14.,  6.,  1.,  2.]),\n",
              " array([-2.25645834, -1.75205673, -1.24765511, -0.7432535 , -0.23885189,\n",
              "         0.26554972,  0.76995134,  1.27435295,  1.77875456,  2.28315617,\n",
              "         2.78755778]),\n",
              " <a list of 10 Patch objects>)"
            ]
          },
          "metadata": {},
          "execution_count": 74
        },
        {
          "output_type": "display_data",
          "data": {
            "text/plain": [
              "<Figure size 432x288 with 1 Axes>"
            ],
            "image/png": "[encoded data removed]"
          },
          "metadata": {
            "needs_background": "light"
          }
        }
      ]
    },
    {
      "cell_type": "markdown",
      "source": [
        "hist-히스토그램 만들어줌. "
      ],
      "metadata": {
        "id": "8USI2v45FKpb"
      }
    }
  ]
}