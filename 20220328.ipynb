{
  "nbformat": 4,
  "nbformat_minor": 0,
  "metadata": {
    "colab": {
      "name": "20220328.ipynb",
      "provenance": [],
      "authorship_tag": "ABX9TyOeYqIvUUNWkuGgteQ2T5S+",
      "include_colab_link": true
    },
    "kernelspec": {
      "name": "python3",
      "display_name": "Python 3"
    },
    "language_info": {
      "name": "python"
    }
  },
  "cells": [
    {
      "cell_type": "markdown",
      "metadata": {
        "id": "view-in-github",
        "colab_type": "text"
      },
      "source": [
        "<a href=\"https://colab.research.google.com/github/hyesuun/class2022Spring/blob/main/20220328.ipynb\" target=\"_parent\"><img src=\"https://colab.research.google.com/assets/colab-badge.svg\" alt=\"Open In Colab\"/></a>"
      ]
    },
    {
      "cell_type": "code",
      "execution_count": 16,
      "metadata": {
        "id": "ns-MadktWEFw"
      },
      "outputs": [],
      "source": [
        "import requests"
      ]
    },
    {
      "cell_type": "code",
      "source": [
        "URL = ('http://apis.data.go.kr/6430000/cbRecreationalFoodInfoService/'\n",
        "       'getRecreationalFoodInfo?'\n",
        "       'serviceKey=KUte%2B1a0lMg33Joa%2Bu5ovcX%2F3e%2F7mY8MYvtinzMjlJUetgUjZdZY%2BElYD6eL9akDvYlj0%2Fn3Na74Cy%2BKubHUzg%3D%3D'\n",
        "       '&currentPage=1'\n",
        "       '&perPage=10'\n",
        "       '&CMPNM=지선생쌈촌')\n",
        "response = requests.get(URL)"
      ],
      "metadata": {
        "id": "D5J9VHEtXaFc"
      },
      "execution_count": 17,
      "outputs": []
    },
    {
      "cell_type": "code",
      "source": [
        "response"
      ],
      "metadata": {
        "colab": {
          "base_uri": "https://localhost:8080/"
        },
        "id": "gbQcjeL8X553",
        "outputId": "17f12d8e-cf99-4812-a85e-380274da7855"
      },
      "execution_count": 18,
      "outputs": [
        {
          "output_type": "execute_result",
          "data": {
            "text/plain": [
              "<Response [200]>"
            ]
          },
          "metadata": {},
          "execution_count": 18
        }
      ]
    },
    {
      "cell_type": "code",
      "source": [
        "r=response.json()\n",
        "r"
      ],
      "metadata": {
        "colab": {
          "base_uri": "https://localhost:8080/"
        },
        "id": "KqOjGG3SX8Eu",
        "outputId": "e1674755-d7fa-4dd8-9ff4-20657c6a2d95"
      },
      "execution_count": 19,
      "outputs": [
        {
          "output_type": "execute_result",
          "data": {
            "text/plain": [
              "{'body': [{'ADRES': '충북 옥천군 옥천읍 옥천로 1666-11',\n",
              "   'CMPNM': '지선생쌈촌',\n",
              "   'DC': '지선생쌈촌은 2017년에 지정된 음식점으로 향토음식경대회 특별상 수상, 한국외식업 중앙회장 표창 등 약력이 화려한만큼 음식맛도 깔끔하고 정갈한 모범적인 곳입니다.',\n",
              "   'LA': 36.293696,\n",
              "   'LO': 127.567427,\n",
              "   'MENU': '영양돌솥밥정식 우렁쌈밥 삼겹쌈밥',\n",
              "   'MNMNU': '돌솥밥정식',\n",
              "   'SE': '밥맛좋은집',\n",
              "   'SIGUN': '옥천군',\n",
              "   'TELNO': '043-733-3292',\n",
              "   'TIME': '11:00 - 21:30',\n",
              "   '_URL': 'https://tour.chungbuk.go.kr/www/selectTourCntnts.do?searchMainSe=FOOD&key=77&tourNo=2159'}],\n",
              " 'header': {'currentPage': 1,\n",
              "  'perPage': 10,\n",
              "  'resultCode': '00',\n",
              "  'resultMsg': 'NORMAL_SERVICE',\n",
              "  'totalRows': 1}}"
            ]
          },
          "metadata": {},
          "execution_count": 19
        }
      ]
    },
    {
      "cell_type": "code",
      "source": [
        "print(type(r))"
      ],
      "metadata": {
        "colab": {
          "base_uri": "https://localhost:8080/"
        },
        "id": "Yt1ldyosYvuZ",
        "outputId": "a10f76f8-c51b-475c-df41-7976270314af"
      },
      "execution_count": 20,
      "outputs": [
        {
          "output_type": "stream",
          "name": "stdout",
          "text": [
            "<class 'dict'>\n"
          ]
        }
      ]
    },
    {
      "cell_type": "code",
      "source": [
        "items = r['body']"
      ],
      "metadata": {
        "id": "9xFt2NeEiuP0"
      },
      "execution_count": 23,
      "outputs": []
    }
  ]
}