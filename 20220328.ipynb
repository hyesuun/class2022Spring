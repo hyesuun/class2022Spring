{
  "nbformat": 4,
  "nbformat_minor": 0,
  "metadata": {
    "colab": {
      "name": "20220328.ipynb",
      "provenance": [],
      "authorship_tag": "ABX9TyOPFsc45dKxs69LA9b/i4qT",
      "include_colab_link": true
    },
    "kernelspec": {
      "name": "python3",
      "display_name": "Python 3"
    },
    "language_info": {
      "name": "python"
    }
  },
  "cells": [
    {
      "cell_type": "markdown",
      "metadata": {
        "id": "view-in-github",
        "colab_type": "text"
      },
      "source": [
        "<a href=\"https://colab.research.google.com/github/hyesuun/class2022Spring/blob/main/20220328.ipynb\" target=\"_parent\"><img src=\"https://colab.research.google.com/assets/colab-badge.svg\" alt=\"Open In Colab\"/></a>"
      ]
    },
    {
      "cell_type": "code",
      "execution_count": 1,
      "metadata": {
        "id": "ns-MadktWEFw"
      },
      "outputs": [],
      "source": [
        "import requests"
      ]
    },
    {
      "cell_type": "code",
      "source": [
        "URL = ('http://apis.data.go.kr/1471000/CovidDagnsRgntDmstPrmsnPrdtService/'\n",
        "       'getCovidDagnsRgntDmstPrmsnPrdtInq?'\n",
        "       'serviceKey=KUte%2B1a0lMg33Joa%2Bu5ovcX%2F3e%2F7mY8MYvtinzMjlJUetgUjZdZY%2BElYD6eL9akDvYlj0%2Fn3Na74Cy%2BKubHUzg%3D%3D'\n",
        "       '&numOfRows=3'\n",
        "       '&pageNo=1'\n",
        "       '&type=json')\n",
        "response = requests.get(URL)"
      ],
      "metadata": {
        "id": "D5J9VHEtXaFc"
      },
      "execution_count": 2,
      "outputs": []
    },
    {
      "cell_type": "code",
      "source": [
        "response"
      ],
      "metadata": {
        "colab": {
          "base_uri": "https://localhost:8080/"
        },
        "id": "gbQcjeL8X553",
        "outputId": "0d585553-2a52-46d8-b2b7-c02e87238d96"
      },
      "execution_count": 3,
      "outputs": [
        {
          "output_type": "execute_result",
          "data": {
            "text/plain": [
              "<Response [200]>"
            ]
          },
          "metadata": {},
          "execution_count": 3
        }
      ]
    },
    {
      "cell_type": "code",
      "source": [
        "r=response.json()\n",
        "r"
      ],
      "metadata": {
        "colab": {
          "base_uri": "https://localhost:8080/"
        },
        "id": "KqOjGG3SX8Eu",
        "outputId": "5e68a359-ef97-4370-a6cf-9cabd4d4557b"
      },
      "execution_count": 4,
      "outputs": [
        {
          "output_type": "execute_result",
          "data": {
            "text/plain": [
              "{'body': {'items': [{'BSSH_ADDR': '충청북도 청주시 흥덕구 오송읍 오송생명4로 74 ',\n",
              "    'BSSH_NM': '에스디바이오센서(주)',\n",
              "    'CLSF_NO_GRAD_CD': '3',\n",
              "    'EXPU_EQPM_YN': '예',\n",
              "    'INDT_CD_NM': '제조업',\n",
              "    'MDEQ_CLSF_NO': 'K05030.01',\n",
              "    'MEDDEV_ENTP_NO': '체외 제 4413 호',\n",
              "    'MEDDEV_ITEM_NO': '체외 제허 21-301 호',\n",
              "    'PRDLST_NM': '고위험성감염체면역검사시약',\n",
              "    'PRDT_NM_INFO': 'STANDARD™ Q COVID-19 Ag Home Test',\n",
              "    'PRMSN_DT': '2021-04-16',\n",
              "    'PRMSN_YMD': '2014-01-10',\n",
              "    'RTRCN_DSCTN_DIVS_CD_NM': '취하',\n",
              "    'RTRCN_DSCTN_DT': '2021-06-17',\n",
              "    'TYPE_NM': 'QCOVH-M03',\n",
              "    'USE_PURPS_CONT': '1. 고위험성감염체면역검사시약 : 호흡기 감염 증상이 있는 개인이 비강 도말 검체에서  면역크로마토그래피법(Immunochromatographic Assay, ICA)으로  SARS-CoV-2 항원(Nucleocapsid Protein)을 정성하는데 보조적으로 사용되는 체외진단 의료기기\\n2. 검체채취용도구 : 질병 검사 등을 위하여 짧은 시간 안에 구강, 비강, 이강 또는 항문에서 체액, 분비물 등을 채취하는 면봉 형태의 도구\\n',\n",
              "    'VLD_PRD_BGNG_DT': None,\n",
              "    'VLD_PRD_END_DT': None},\n",
              "   {'BSSH_ADDR': '충청북도 청주시 흥덕구 오송읍 오송생명4로 74 ',\n",
              "    'BSSH_NM': '에스디바이오센서(주)',\n",
              "    'CLSF_NO_GRAD_CD': '3',\n",
              "    'EXPU_EQPM_YN': '예',\n",
              "    'INDT_CD_NM': '제조업',\n",
              "    'MDEQ_CLSF_NO': 'K05030.01',\n",
              "    'MEDDEV_ENTP_NO': '체외 제 4413 호',\n",
              "    'MEDDEV_ITEM_NO': '체외 제허 19-239 호',\n",
              "    'PRDLST_NM': '고위험성감염체면역검사시약',\n",
              "    'PRDT_NM_INFO': 'STANDARD™ Q Arbo Panel I (Z/D/C/Y) Test',\n",
              "    'PRMSN_DT': '2019-04-15',\n",
              "    'PRMSN_YMD': '2014-01-10',\n",
              "    'RTRCN_DSCTN_DIVS_CD_NM': None,\n",
              "    'RTRCN_DSCTN_DT': None,\n",
              "    'TYPE_NM': 'STANDARD™ Q Arbo Panel I (Z/D/C/Y) Test (QZKA06D)',\n",
              "    'USE_PURPS_CONT': '1. 고위험성감염체면역검사시약: 사람의 전혈(헤파린, EDTA, sodium citrate 처리), 혈장(헤파린, EDTA, sodium citrate 처리), 혈청에서 Zika virus IgM 항체, Dengue virus IgM 항체, Chikungunya virus IgM 항체, Yellow fever virus IgM, Dengue NS1 Ag 항원을 면역크로마토그래피법으로 정성하여 지카 바이러스, 뎅기 바이러스, 치쿤쿠니아 바이러스, 황열 바이러스 감염 진단에 도움을 주는 체외진단용 의료기기\\n2. 모세관채혈튜브: 모세관 현상을 이용하여 혈액을 채취하는 가는 튜브 모양의 기구\\n3. 일회용자동랜싯: 채혈 등을 목적으로 사용하는  일회용 자동형 기구',\n",
              "    'VLD_PRD_BGNG_DT': None,\n",
              "    'VLD_PRD_END_DT': None},\n",
              "   {'BSSH_ADDR': '경기도 안양시 동안구  벌말로 140  7508호, 7507-1호(관양동, 동일테크노타워7차)',\n",
              "    'BSSH_NM': '(주)켈스',\n",
              "    'CLSF_NO_GRAD_CD': '3',\n",
              "    'EXPU_EQPM_YN': '아니오',\n",
              "    'INDT_CD_NM': '제조업',\n",
              "    'MDEQ_CLSF_NO': 'K05030.01',\n",
              "    'MEDDEV_ENTP_NO': '체외 제 4753 호',\n",
              "    'MEDDEV_ITEM_NO': '체외 제허 18-305 호',\n",
              "    'PRDLST_NM': '고위험성감염체면역검사시약',\n",
              "    'PRDT_NM_INFO': 'HiSens Dengue IgG/IgM Card',\n",
              "    'PRMSN_DT': '2018-04-25',\n",
              "    'PRMSN_YMD': '2014-11-21',\n",
              "    'RTRCN_DSCTN_DIVS_CD_NM': None,\n",
              "    'RTRCN_DSCTN_DT': None,\n",
              "    'TYPE_NM': '하이센스 뎅기 아이지지/아이지엠 카드',\n",
              "    'USE_PURPS_CONT': '1. 고위험성감염체면역검사시약: 사람의 혈청 및 혈장(Heparin, EDTA, Sodium citrate 처리)에서 뎅기 바이러스(Dengue virus)의 IgG와 IgM 항체를 면역크로마토그래피법(Immunochromatographic assay)로 정성하여 뎅기 바이러스(Dengue virus) 감염 진단에 도움을 주는 체외진단용 의료기기\\n2. 모세관채혈튜브: 모세관 현상을 이용하여 혈액을 채취하는 가는 튜브 모양의 기구',\n",
              "    'VLD_PRD_BGNG_DT': None,\n",
              "    'VLD_PRD_END_DT': None}],\n",
              "  'numOfRows': 3,\n",
              "  'pageNo': 1,\n",
              "  'totalCount': 313},\n",
              " 'header': {'resultCode': '00', 'resultMsg': 'NORMAL SERVICE.'}}"
            ]
          },
          "metadata": {},
          "execution_count": 4
        }
      ]
    }
  ]
}